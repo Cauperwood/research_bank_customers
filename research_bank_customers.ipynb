{
 "cells": [
  {
   "cell_type": "markdown",
   "metadata": {},
   "source": [
    "# Исследование надёжности заёмщиков\n",
    "\n",
    "Заказчик — кредитный отдел банка. Нужно разобраться, влияет ли семейное положение и количество детей клиента на факт погашения кредита в срок. Входные данные от банка — статистика о платёжеспособности клиентов.\n",
    "\n",
    "Результаты исследования будут учтены при построении модели **кредитного скоринга** — специальной системы, которая оценивает способность потенциального заёмщика вернуть кредит банку."
   ]
  },
  {
   "cell_type": "markdown",
   "metadata": {},
   "source": [
    "## Шаг 1. Откройте файл с данными и изучите общую информацию"
   ]
  },
  {
   "cell_type": "code",
   "execution_count": 1,
   "metadata": {},
   "outputs": [],
   "source": [
    "import pandas as pd\n",
    "import matplotlib.pyplot as plt\n",
    "from pymystem3 import Mystem\n",
    "from collections import Counter\n",
    "import warnings\n",
    "warnings.filterwarnings(\"ignore\")"
   ]
  },
  {
   "cell_type": "code",
   "execution_count": 105,
   "metadata": {},
   "outputs": [],
   "source": [
    "way_data = '/datasets/data.csv'"
   ]
  },
  {
   "cell_type": "code",
   "execution_count": 4,
   "metadata": {},
   "outputs": [
    {
     "name": "stdout",
     "output_type": "stream",
     "text": [
      "<class 'pandas.core.frame.DataFrame'>\n",
      "RangeIndex: 21525 entries, 0 to 21524\n",
      "Data columns (total 12 columns):\n",
      " #   Column            Non-Null Count  Dtype  \n",
      "---  ------            --------------  -----  \n",
      " 0   children          21525 non-null  int64  \n",
      " 1   days_employed     19351 non-null  float64\n",
      " 2   dob_years         21525 non-null  int64  \n",
      " 3   education         21525 non-null  object \n",
      " 4   education_id      21525 non-null  int64  \n",
      " 5   family_status     21525 non-null  object \n",
      " 6   family_status_id  21525 non-null  int64  \n",
      " 7   gender            21525 non-null  object \n",
      " 8   income_type       21525 non-null  object \n",
      " 9   debt              21525 non-null  int64  \n",
      " 10  total_income      19351 non-null  float64\n",
      " 11  purpose           21525 non-null  object \n",
      "dtypes: float64(2), int64(5), object(5)\n",
      "memory usage: 2.0+ MB\n"
     ]
    }
   ],
   "source": [
    "df = pd.read_csv(way_data)\n",
    "df.info()"
   ]
  },
  {
   "cell_type": "code",
   "execution_count": 47,
   "metadata": {},
   "outputs": [
    {
     "data": {
      "text/plain": [
       "children               0\n",
       "days_employed       2174\n",
       "dob_years              0\n",
       "education              0\n",
       "education_id           0\n",
       "family_status          0\n",
       "family_status_id       0\n",
       "gender                 0\n",
       "income_type            0\n",
       "debt                   0\n",
       "total_income        2174\n",
       "purpose                0\n",
       "dtype: int64"
      ]
     },
     "execution_count": 47,
     "metadata": {},
     "output_type": "execute_result"
    }
   ],
   "source": [
    "df.isna().sum()"
   ]
  },
  {
   "cell_type": "code",
   "execution_count": 48,
   "metadata": {},
   "outputs": [
    {
     "data": {
      "text/html": [
       "<div>\n",
       "<style scoped>\n",
       "    .dataframe tbody tr th:only-of-type {\n",
       "        vertical-align: middle;\n",
       "    }\n",
       "\n",
       "    .dataframe tbody tr th {\n",
       "        vertical-align: top;\n",
       "    }\n",
       "\n",
       "    .dataframe thead th {\n",
       "        text-align: right;\n",
       "    }\n",
       "</style>\n",
       "<table border=\"1\" class=\"dataframe\">\n",
       "  <thead>\n",
       "    <tr style=\"text-align: right;\">\n",
       "      <th></th>\n",
       "      <th>children</th>\n",
       "      <th>days_employed</th>\n",
       "      <th>dob_years</th>\n",
       "      <th>education_id</th>\n",
       "      <th>family_status_id</th>\n",
       "      <th>debt</th>\n",
       "      <th>total_income</th>\n",
       "    </tr>\n",
       "  </thead>\n",
       "  <tbody>\n",
       "    <tr>\n",
       "      <th>count</th>\n",
       "      <td>21525.000000</td>\n",
       "      <td>19351.000000</td>\n",
       "      <td>21525.000000</td>\n",
       "      <td>21525.000000</td>\n",
       "      <td>21525.000000</td>\n",
       "      <td>21525.000000</td>\n",
       "      <td>1.935100e+04</td>\n",
       "    </tr>\n",
       "    <tr>\n",
       "      <th>mean</th>\n",
       "      <td>0.538908</td>\n",
       "      <td>63046.497661</td>\n",
       "      <td>43.293380</td>\n",
       "      <td>0.817236</td>\n",
       "      <td>0.972544</td>\n",
       "      <td>0.080883</td>\n",
       "      <td>1.674223e+05</td>\n",
       "    </tr>\n",
       "    <tr>\n",
       "      <th>std</th>\n",
       "      <td>1.381587</td>\n",
       "      <td>140827.311974</td>\n",
       "      <td>12.574584</td>\n",
       "      <td>0.548138</td>\n",
       "      <td>1.420324</td>\n",
       "      <td>0.272661</td>\n",
       "      <td>1.029716e+05</td>\n",
       "    </tr>\n",
       "    <tr>\n",
       "      <th>min</th>\n",
       "      <td>-1.000000</td>\n",
       "      <td>-18388.949901</td>\n",
       "      <td>0.000000</td>\n",
       "      <td>0.000000</td>\n",
       "      <td>0.000000</td>\n",
       "      <td>0.000000</td>\n",
       "      <td>2.066726e+04</td>\n",
       "    </tr>\n",
       "    <tr>\n",
       "      <th>25%</th>\n",
       "      <td>0.000000</td>\n",
       "      <td>-2747.423625</td>\n",
       "      <td>33.000000</td>\n",
       "      <td>1.000000</td>\n",
       "      <td>0.000000</td>\n",
       "      <td>0.000000</td>\n",
       "      <td>1.030532e+05</td>\n",
       "    </tr>\n",
       "    <tr>\n",
       "      <th>50%</th>\n",
       "      <td>0.000000</td>\n",
       "      <td>-1203.369529</td>\n",
       "      <td>42.000000</td>\n",
       "      <td>1.000000</td>\n",
       "      <td>0.000000</td>\n",
       "      <td>0.000000</td>\n",
       "      <td>1.450179e+05</td>\n",
       "    </tr>\n",
       "    <tr>\n",
       "      <th>75%</th>\n",
       "      <td>1.000000</td>\n",
       "      <td>-291.095954</td>\n",
       "      <td>53.000000</td>\n",
       "      <td>1.000000</td>\n",
       "      <td>1.000000</td>\n",
       "      <td>0.000000</td>\n",
       "      <td>2.034351e+05</td>\n",
       "    </tr>\n",
       "    <tr>\n",
       "      <th>max</th>\n",
       "      <td>20.000000</td>\n",
       "      <td>401755.400475</td>\n",
       "      <td>75.000000</td>\n",
       "      <td>4.000000</td>\n",
       "      <td>4.000000</td>\n",
       "      <td>1.000000</td>\n",
       "      <td>2.265604e+06</td>\n",
       "    </tr>\n",
       "  </tbody>\n",
       "</table>\n",
       "</div>"
      ],
      "text/plain": [
       "           children  days_employed     dob_years  education_id  \\\n",
       "count  21525.000000   19351.000000  21525.000000  21525.000000   \n",
       "mean       0.538908   63046.497661     43.293380      0.817236   \n",
       "std        1.381587  140827.311974     12.574584      0.548138   \n",
       "min       -1.000000  -18388.949901      0.000000      0.000000   \n",
       "25%        0.000000   -2747.423625     33.000000      1.000000   \n",
       "50%        0.000000   -1203.369529     42.000000      1.000000   \n",
       "75%        1.000000    -291.095954     53.000000      1.000000   \n",
       "max       20.000000  401755.400475     75.000000      4.000000   \n",
       "\n",
       "       family_status_id          debt  total_income  \n",
       "count      21525.000000  21525.000000  1.935100e+04  \n",
       "mean           0.972544      0.080883  1.674223e+05  \n",
       "std            1.420324      0.272661  1.029716e+05  \n",
       "min            0.000000      0.000000  2.066726e+04  \n",
       "25%            0.000000      0.000000  1.030532e+05  \n",
       "50%            0.000000      0.000000  1.450179e+05  \n",
       "75%            1.000000      0.000000  2.034351e+05  \n",
       "max            4.000000      1.000000  2.265604e+06  "
      ]
     },
     "execution_count": 48,
     "metadata": {},
     "output_type": "execute_result"
    }
   ],
   "source": [
    "df.describe()"
   ]
  },
  {
   "cell_type": "markdown",
   "metadata": {},
   "source": [
    "**Вывод**"
   ]
  },
  {
   "cell_type": "markdown",
   "metadata": {},
   "source": [
    "В данном датафрэйме можно наблюдать пропущенные значения в столбцах days_employed и total_income, причем если значение пропущено в столбце 'days_employed', то и в столбце 'total_income' оно также отсутствует, исходя из чего, можно предположить, что здесь есть взаимосвязь, а именно: если стоит пропуск в количестве рабочих дней (трудового стажа), то и прибыли у данного человека быть не может, другими словами он никогда не работал."
   ]
  },
  {
   "cell_type": "code",
   "execution_count": 5,
   "metadata": {},
   "outputs": [
    {
     "data": {
      "text/plain": [
       "2174"
      ]
     },
     "execution_count": 5,
     "metadata": {},
     "output_type": "execute_result"
    }
   ],
   "source": [
    "len(df.loc[(df['days_employed'].isna()) & (df['total_income'].isna())])"
   ]
  },
  {
   "cell_type": "markdown",
   "metadata": {},
   "source": [
    "действительно, если есть пропуск в одном столбце, то и в другом он также присутствует. Посмотрим какие значения при этом принимает столбец  'тип занятости' (income_type)"
   ]
  },
  {
   "cell_type": "code",
   "execution_count": 6,
   "metadata": {},
   "outputs": [
    {
     "data": {
      "text/plain": [
       "array(['пенсионер', 'госслужащий', 'компаньон', 'сотрудник',\n",
       "       'предприниматель'], dtype=object)"
      ]
     },
     "execution_count": 6,
     "metadata": {},
     "output_type": "execute_result"
    }
   ],
   "source": [
    "df.loc[df['days_employed'].isna()]['income_type'].unique()"
   ]
  },
  {
   "cell_type": "markdown",
   "metadata": {},
   "source": [
    "Как видим, все эти люди имеют опыт работы, значит предыдущее предположение не верно. Возможно при внесении/выгрузке данных в датафрэйм произошла ошибка. В любом случае продолжаем проверку данных по каждому столбцу. "
   ]
  },
  {
   "cell_type": "markdown",
   "metadata": {},
   "source": [
    "В рабочем режиме я бы еще раз выгрузил данные. "
   ]
  },
  {
   "cell_type": "markdown",
   "metadata": {},
   "source": [
    "Хочу понять нет ли некорректных значений в столбцах 'days_employed' и 'income_type' среди непропущенных данных, для этого построю простой график и посмотрю есть ли явные выбросы"
   ]
  },
  {
   "cell_type": "code",
   "execution_count": 51,
   "metadata": {},
   "outputs": [
    {
     "data": {
      "image/png": "[encoded data removed]",
      "text/plain": [
       "<Figure size 432x288 with 1 Axes>"
      ]
     },
     "metadata": {
      "needs_background": "light"
     },
     "output_type": "display_data"
    }
   ],
   "source": [
    "plt.plot(df['days_employed'], df['total_income'], 'ro')\n",
    "plt.title('распределение дохода от трудового стажа')\n",
    "plt.xlabel('days_employed')\n",
    "plt.ylabel('total_income')\n",
    "plt.show()"
   ]
  },
  {
   "cell_type": "markdown",
   "metadata": {},
   "source": [
    "Как видно в данных довольно много выбросов и в столбце  'доходы' и ' трудовой стаж' "
   ]
  },
  {
   "cell_type": "code",
   "execution_count": 8,
   "metadata": {},
   "outputs": [
    {
     "name": "stdout",
     "output_type": "stream",
     "text": [
      "-18388.949900568383\n"
     ]
    },
    {
     "data": {
      "text/plain": [
       "401755.40047533"
      ]
     },
     "execution_count": 8,
     "metadata": {},
     "output_type": "execute_result"
    }
   ],
   "source": [
    "print(df['days_employed'].min())\n",
    "df['days_employed'].max()"
   ]
  },
  {
   "cell_type": "markdown",
   "metadata": {},
   "source": [
    "Максимальное значение рабочих часов в столбце если перевести в года, получится что человек без сна и отдыха работал 45 с лишним лет. И также в столбце много значений со знаком '-'. Продолжим исследование других столбцов. "
   ]
  },
  {
   "cell_type": "code",
   "execution_count": 9,
   "metadata": {},
   "outputs": [
    {
     "data": {
      "text/plain": [
       "array(['сотрудник', 'пенсионер', 'компаньон', 'госслужащий',\n",
       "       'безработный', 'предприниматель', 'студент', 'в декрете'],\n",
       "      dtype=object)"
      ]
     },
     "execution_count": 9,
     "metadata": {},
     "output_type": "execute_result"
    }
   ],
   "source": [
    "df['income_type'].unique()"
   ]
  },
  {
   "cell_type": "markdown",
   "metadata": {},
   "source": [
    "здесь на первый взгляд все хорошо"
   ]
  },
  {
   "cell_type": "code",
   "execution_count": 10,
   "metadata": {},
   "outputs": [
    {
     "data": {
      "text/plain": [
       "array([ 1,  0,  3,  2, -1,  4, 20,  5])"
      ]
     },
     "execution_count": 10,
     "metadata": {},
     "output_type": "execute_result"
    }
   ],
   "source": [
    "df['children'].unique()"
   ]
  },
  {
   "cell_type": "markdown",
   "metadata": {},
   "source": [
    "Получается интересная вещь: у кого-то '-1' ребенок, а у кого-то целых 20 детей... Продолжаем исследование "
   ]
  },
  {
   "cell_type": "code",
   "execution_count": 11,
   "metadata": {},
   "outputs": [
    {
     "data": {
      "text/plain": [
       "array([0])"
      ]
     },
     "execution_count": 11,
     "metadata": {},
     "output_type": "execute_result"
    }
   ],
   "source": [
    "df.loc[df['dob_years'] < 18]['dob_years'].unique()"
   ]
  },
  {
   "cell_type": "markdown",
   "metadata": {},
   "source": [
    "Получается за кредитом обратился младенец. "
   ]
  },
  {
   "cell_type": "code",
   "execution_count": 12,
   "metadata": {},
   "outputs": [
    {
     "data": {
      "text/plain": [
       "array(['высшее', 'среднее', 'Среднее', 'СРЕДНЕЕ', 'ВЫСШЕЕ',\n",
       "       'неоконченное высшее', 'начальное', 'Высшее',\n",
       "       'НЕОКОНЧЕННОЕ ВЫСШЕЕ', 'Неоконченное высшее', 'НАЧАЛЬНОЕ',\n",
       "       'Начальное', 'Ученая степень', 'УЧЕНАЯ СТЕПЕНЬ', 'ученая степень'],\n",
       "      dtype=object)"
      ]
     },
     "execution_count": 12,
     "metadata": {},
     "output_type": "execute_result"
    }
   ],
   "source": [
    "df['education'].unique()"
   ]
  },
  {
   "cell_type": "markdown",
   "metadata": {},
   "source": [
    "Итак данные в этом столбце в разном регистре, надо это исправить. Приведу все значения этого столбца к нижнему регистру"
   ]
  },
  {
   "cell_type": "code",
   "execution_count": 13,
   "metadata": {},
   "outputs": [
    {
     "data": {
      "text/plain": [
       "array(['женат / замужем', 'гражданский брак', 'вдовец / вдова',\n",
       "       'в разводе', 'Не женат / не замужем'], dtype=object)"
      ]
     },
     "execution_count": 13,
     "metadata": {},
     "output_type": "execute_result"
    }
   ],
   "source": [
    "df['family_status'].unique()"
   ]
  },
  {
   "cell_type": "markdown",
   "metadata": {},
   "source": [
    "на всякий случай тоже к нижнему регистру приведу"
   ]
  },
  {
   "cell_type": "code",
   "execution_count": 14,
   "metadata": {},
   "outputs": [
    {
     "data": {
      "text/plain": [
       "array(['F', 'M', 'XNA'], dtype=object)"
      ]
     },
     "execution_count": 14,
     "metadata": {},
     "output_type": "execute_result"
    }
   ],
   "source": [
    "df['gender'].unique()"
   ]
  },
  {
   "cell_type": "markdown",
   "metadata": {},
   "source": [
    "я не в курсе что означает пол 'XNA', можно ли его привести к известным мне значениям? не хотелось бы кого-то обидеть "
   ]
  },
  {
   "cell_type": "code",
   "execution_count": 15,
   "metadata": {},
   "outputs": [
    {
     "data": {
      "text/html": [
       "<div>\n",
       "<style scoped>\n",
       "    .dataframe tbody tr th:only-of-type {\n",
       "        vertical-align: middle;\n",
       "    }\n",
       "\n",
       "    .dataframe tbody tr th {\n",
       "        vertical-align: top;\n",
       "    }\n",
       "\n",
       "    .dataframe thead th {\n",
       "        text-align: right;\n",
       "    }\n",
       "</style>\n",
       "<table border=\"1\" class=\"dataframe\">\n",
       "  <thead>\n",
       "    <tr style=\"text-align: right;\">\n",
       "      <th></th>\n",
       "      <th>children</th>\n",
       "      <th>days_employed</th>\n",
       "      <th>dob_years</th>\n",
       "      <th>education</th>\n",
       "      <th>education_id</th>\n",
       "      <th>family_status</th>\n",
       "      <th>family_status_id</th>\n",
       "      <th>gender</th>\n",
       "      <th>income_type</th>\n",
       "      <th>debt</th>\n",
       "      <th>total_income</th>\n",
       "      <th>purpose</th>\n",
       "    </tr>\n",
       "  </thead>\n",
       "  <tbody>\n",
       "    <tr>\n",
       "      <th>10701</th>\n",
       "      <td>0</td>\n",
       "      <td>-2358.600502</td>\n",
       "      <td>24</td>\n",
       "      <td>неоконченное высшее</td>\n",
       "      <td>2</td>\n",
       "      <td>гражданский брак</td>\n",
       "      <td>1</td>\n",
       "      <td>XNA</td>\n",
       "      <td>компаньон</td>\n",
       "      <td>0</td>\n",
       "      <td>203905.157261</td>\n",
       "      <td>покупка недвижимости</td>\n",
       "    </tr>\n",
       "  </tbody>\n",
       "</table>\n",
       "</div>"
      ],
      "text/plain": [
       "       children  days_employed  dob_years            education  education_id  \\\n",
       "10701         0   -2358.600502         24  неоконченное высшее             2   \n",
       "\n",
       "          family_status  family_status_id gender income_type  debt  \\\n",
       "10701  гражданский брак                 1    XNA   компаньон     0   \n",
       "\n",
       "        total_income               purpose  \n",
       "10701  203905.157261  покупка недвижимости  "
      ]
     },
     "execution_count": 15,
     "metadata": {},
     "output_type": "execute_result"
    }
   ],
   "source": [
    "df.loc[df['gender'] == 'XNA']"
   ]
  },
  {
   "cell_type": "markdown",
   "metadata": {},
   "source": [
    "В датафрейме одна строка данных с таким значением "
   ]
  },
  {
   "cell_type": "code",
   "execution_count": 16,
   "metadata": {},
   "outputs": [
    {
     "data": {
      "text/plain": [
       "array([0, 1])"
      ]
     },
     "execution_count": 16,
     "metadata": {},
     "output_type": "execute_result"
    }
   ],
   "source": [
    "df['debt'].unique()"
   ]
  },
  {
   "cell_type": "markdown",
   "metadata": {},
   "source": [
    "здесь все с первого взгляда все хорошо"
   ]
  },
  {
   "cell_type": "code",
   "execution_count": 17,
   "metadata": {},
   "outputs": [
    {
     "data": {
      "text/plain": [
       "array(['покупка жилья', 'приобретение автомобиля',\n",
       "       'дополнительное образование', 'сыграть свадьбу',\n",
       "       'операции с жильем', 'образование', 'на проведение свадьбы',\n",
       "       'покупка жилья для семьи', 'покупка недвижимости',\n",
       "       'покупка коммерческой недвижимости', 'покупка жилой недвижимости',\n",
       "       'строительство собственной недвижимости', 'недвижимость',\n",
       "       'строительство недвижимости', 'на покупку подержанного автомобиля',\n",
       "       'на покупку своего автомобиля',\n",
       "       'операции с коммерческой недвижимостью',\n",
       "       'строительство жилой недвижимости', 'жилье',\n",
       "       'операции со своей недвижимостью', 'автомобили',\n",
       "       'заняться образованием', 'сделка с подержанным автомобилем',\n",
       "       'получение образования', 'автомобиль', 'свадьба',\n",
       "       'получение дополнительного образования', 'покупка своего жилья',\n",
       "       'операции с недвижимостью', 'получение высшего образования',\n",
       "       'свой автомобиль', 'сделка с автомобилем',\n",
       "       'профильное образование', 'высшее образование',\n",
       "       'покупка жилья для сдачи', 'на покупку автомобиля', 'ремонт жилью',\n",
       "       'заняться высшим образованием'], dtype=object)"
      ]
     },
     "execution_count": 17,
     "metadata": {},
     "output_type": "execute_result"
    }
   ],
   "source": [
    "df['purpose'].unique()"
   ]
  },
  {
   "cell_type": "markdown",
   "metadata": {},
   "source": [
    "в этом столбце много дубликатов, это нужно поправить"
   ]
  },
  {
   "cell_type": "markdown",
   "metadata": {},
   "source": [
    "На этом первое знакомство с данными пока закончим и начнем приводить датафрейм в порядок"
   ]
  },
  {
   "cell_type": "markdown",
   "metadata": {},
   "source": [
    "## Шаг 2. Предобработка данных"
   ]
  },
  {
   "cell_type": "markdown",
   "metadata": {},
   "source": [
    "### Обработка пропусков"
   ]
  },
  {
   "cell_type": "markdown",
   "metadata": {},
   "source": [
    "Создам копию датафрейма и все действия, изменяющие данные, буду производить над этой копией. "
   ]
  },
  {
   "cell_type": "code",
   "execution_count": 18,
   "metadata": {},
   "outputs": [],
   "source": [
    "df_copy = df.copy()"
   ]
  },
  {
   "cell_type": "markdown",
   "metadata": {},
   "source": [
    "Для начала разберусь в выбросами в столбце \"days_employed\", для этого уберу строки со значением NaN, чтобы избавиться от отрицательных значений приведу весь столбец к модулю. Далее посмотрю существует ли связь между возрастом и трудовым стажем, если связь есть то заполню выбросы в трудовом стаже средним значением для такого возраста. Столбец с возрастом также приведу к модулю. "
   ]
  },
  {
   "cell_type": "code",
   "execution_count": 19,
   "metadata": {},
   "outputs": [],
   "source": [
    "df_copy['days_employed'] = df_copy['days_employed'].abs()"
   ]
  },
  {
   "cell_type": "code",
   "execution_count": 20,
   "metadata": {},
   "outputs": [],
   "source": [
    "df_copy['dob_years'] = df_copy['dob_years'].abs()"
   ]
  },
  {
   "cell_type": "code",
   "execution_count": 73,
   "metadata": {},
   "outputs": [],
   "source": [
    "df_copy['children'] = df_copy['children'].abs()"
   ]
  },
  {
   "cell_type": "code",
   "execution_count": 92,
   "metadata": {},
   "outputs": [],
   "source": [
    "df_copy['children'].loc[df_copy['children'] > 5] = df_copy['children'].median()"
   ]
  },
  {
   "cell_type": "markdown",
   "metadata": {},
   "source": [
    "<div class=\"alert alert-info\">\n",
    "данные по детям поправил. </div>"
   ]
  },
  {
   "cell_type": "code",
   "execution_count": 50,
   "metadata": {},
   "outputs": [
    {
     "data": {
      "image/png": "[encoded data removed]",
      "text/plain": [
       "<Figure size 432x288 with 1 Axes>"
      ]
     },
     "metadata": {
      "needs_background": "light"
     },
     "output_type": "display_data"
    }
   ],
   "source": [
    "plt.plot(df_copy['days_employed'], df_copy['dob_years'], 'ro')\n",
    "plt.title('распределение трудового стажа по возрасту')\n",
    "plt.xlabel('days_employed')\n",
    "plt.ylabel('dob_years')\n",
    "plt.show()"
   ]
  },
  {
   "cell_type": "markdown",
   "metadata": {},
   "source": [
    "Видно, что в возрасте также есть выбросы, согласно нашему датафрейму, 101 человек имеет возраст меньше 15 лет. Для  продолжения работы нужно этот столбец привети в порядок. Сначала  найдем \"молодых\" пенсионеров и изменим их возраст на 65 лет у мужчин и 60 лет у женщин. "
   ]
  },
  {
   "cell_type": "code",
   "execution_count": 22,
   "metadata": {},
   "outputs": [],
   "source": [
    "df_copy['dob_years'].loc[(df_copy['dob_years'] < 15) & (df_copy['income_type'] == 'пенсионер') & (df_copy['gender'] == 'M')] = 65"
   ]
  },
  {
   "cell_type": "code",
   "execution_count": 23,
   "metadata": {},
   "outputs": [],
   "source": [
    "df_copy['dob_years'].loc[(df_copy['dob_years'] < 15) & (df_copy['income_type'] == 'пенсионер') & (df_copy['gender'] == 'F')] = 60"
   ]
  },
  {
   "cell_type": "markdown",
   "metadata": {},
   "source": [
    "Остается 82 \"малыша\" и, за исключением 8 человек, у них нет пропусков в столбце с трудовым стажем, поэтому можно создать столбец с категориями трудового стажа с шагом 500 рабочих дней, затем для каждой такой категории посчитаю средний возраст, приведу его с целому значению и присвою \"малышу\".  "
   ]
  },
  {
   "cell_type": "code",
   "execution_count": 52,
   "metadata": {},
   "outputs": [
    {
     "data": {
      "image/png": "[encoded data removed]",
      "text/plain": [
       "<Figure size 432x288 with 1 Axes>"
      ]
     },
     "metadata": {
      "needs_background": "light"
     },
     "output_type": "display_data"
    }
   ],
   "source": [
    "plt.hist(df_copy['dob_years'])\n",
    "plt.title('гистограмма распределения возраста')\n",
    "plt.xlabel('dob_years')\n",
    "plt.ylabel('amount')\n",
    "plt.show()"
   ]
  },
  {
   "cell_type": "code",
   "execution_count": 25,
   "metadata": {},
   "outputs": [],
   "source": [
    "df_copy['days_employed_cat'] = 0\n",
    "days_employed_min, days_employed_max = 0, 500\n",
    "cat = 1\n",
    "while days_employed_max < 50000:\n",
    "    df_copy['days_employed_cat'].loc[(df_copy['days_employed'] >= days_employed_min) & (df_copy['days_employed'] < days_employed_max)] = cat    \n",
    "    days_employed_min += 500\n",
    "    days_employed_max += 500\n",
    "    cat += 1\n",
    "        "
   ]
  },
  {
   "cell_type": "code",
   "execution_count": 26,
   "metadata": {},
   "outputs": [
    {
     "name": "stdout",
     "output_type": "stream",
     "text": [
      "в категории 35 нельзя вычислить среднее, т.к. недостаточно данных\n"
     ]
    }
   ],
   "source": [
    "n_days_employed_cat = 1\n",
    "while n_days_employed_cat <= df_copy['days_employed_cat'].max():\n",
    "    mean_age = df_copy['dob_years'].loc[(df_copy['days_employed_cat'] == n_days_employed_cat) & (df_copy['dob_years'] > 15) & (df_copy['days_employed_cat'].notna())].mean()\n",
    "    try: \n",
    "        df_copy['dob_years'].loc[(df_copy['days_employed_cat'] == n_days_employed_cat) & (df_copy['dob_years'] < 15) & (df_copy['days_employed_cat'].notna())] = int(mean_age)\n",
    "    except:\n",
    "        print(f'в категории {n_days_employed_cat} нельзя вычислить среднее, т.к. недостаточно данных')\n",
    "    n_days_employed_cat += 1"
   ]
  },
  {
   "cell_type": "markdown",
   "metadata": {},
   "source": [
    "Теперь посчитаю сколько строк не обработалось"
   ]
  },
  {
   "cell_type": "code",
   "execution_count": 27,
   "metadata": {},
   "outputs": [
    {
     "data": {
      "text/plain": [
       "7"
      ]
     },
     "execution_count": 27,
     "metadata": {},
     "output_type": "execute_result"
    }
   ],
   "source": [
    "len(df_copy.loc[df_copy['dob_years'] < 15])"
   ]
  },
  {
   "cell_type": "code",
   "execution_count": 28,
   "metadata": {},
   "outputs": [
    {
     "data": {
      "text/html": [
       "<div>\n",
       "<style scoped>\n",
       "    .dataframe tbody tr th:only-of-type {\n",
       "        vertical-align: middle;\n",
       "    }\n",
       "\n",
       "    .dataframe tbody tr th {\n",
       "        vertical-align: top;\n",
       "    }\n",
       "\n",
       "    .dataframe thead th {\n",
       "        text-align: right;\n",
       "    }\n",
       "</style>\n",
       "<table border=\"1\" class=\"dataframe\">\n",
       "  <thead>\n",
       "    <tr style=\"text-align: right;\">\n",
       "      <th></th>\n",
       "      <th>children</th>\n",
       "      <th>days_employed</th>\n",
       "      <th>dob_years</th>\n",
       "      <th>education</th>\n",
       "      <th>education_id</th>\n",
       "      <th>family_status</th>\n",
       "      <th>family_status_id</th>\n",
       "      <th>gender</th>\n",
       "      <th>income_type</th>\n",
       "      <th>debt</th>\n",
       "      <th>total_income</th>\n",
       "      <th>purpose</th>\n",
       "      <th>days_employed_cat</th>\n",
       "    </tr>\n",
       "  </thead>\n",
       "  <tbody>\n",
       "    <tr>\n",
       "      <th>1890</th>\n",
       "      <td>0</td>\n",
       "      <td>NaN</td>\n",
       "      <td>0</td>\n",
       "      <td>высшее</td>\n",
       "      <td>0</td>\n",
       "      <td>Не женат / не замужем</td>\n",
       "      <td>4</td>\n",
       "      <td>F</td>\n",
       "      <td>сотрудник</td>\n",
       "      <td>0</td>\n",
       "      <td>NaN</td>\n",
       "      <td>жилье</td>\n",
       "      <td>0</td>\n",
       "    </tr>\n",
       "    <tr>\n",
       "      <th>4064</th>\n",
       "      <td>1</td>\n",
       "      <td>NaN</td>\n",
       "      <td>0</td>\n",
       "      <td>среднее</td>\n",
       "      <td>1</td>\n",
       "      <td>гражданский брак</td>\n",
       "      <td>1</td>\n",
       "      <td>M</td>\n",
       "      <td>компаньон</td>\n",
       "      <td>0</td>\n",
       "      <td>NaN</td>\n",
       "      <td>ремонт жилью</td>\n",
       "      <td>0</td>\n",
       "    </tr>\n",
       "    <tr>\n",
       "      <th>5014</th>\n",
       "      <td>0</td>\n",
       "      <td>NaN</td>\n",
       "      <td>0</td>\n",
       "      <td>среднее</td>\n",
       "      <td>1</td>\n",
       "      <td>женат / замужем</td>\n",
       "      <td>0</td>\n",
       "      <td>F</td>\n",
       "      <td>компаньон</td>\n",
       "      <td>0</td>\n",
       "      <td>NaN</td>\n",
       "      <td>покупка недвижимости</td>\n",
       "      <td>0</td>\n",
       "    </tr>\n",
       "    <tr>\n",
       "      <th>8574</th>\n",
       "      <td>0</td>\n",
       "      <td>NaN</td>\n",
       "      <td>0</td>\n",
       "      <td>среднее</td>\n",
       "      <td>1</td>\n",
       "      <td>женат / замужем</td>\n",
       "      <td>0</td>\n",
       "      <td>F</td>\n",
       "      <td>сотрудник</td>\n",
       "      <td>0</td>\n",
       "      <td>NaN</td>\n",
       "      <td>недвижимость</td>\n",
       "      <td>0</td>\n",
       "    </tr>\n",
       "    <tr>\n",
       "      <th>12403</th>\n",
       "      <td>3</td>\n",
       "      <td>NaN</td>\n",
       "      <td>0</td>\n",
       "      <td>среднее</td>\n",
       "      <td>1</td>\n",
       "      <td>женат / замужем</td>\n",
       "      <td>0</td>\n",
       "      <td>M</td>\n",
       "      <td>сотрудник</td>\n",
       "      <td>0</td>\n",
       "      <td>NaN</td>\n",
       "      <td>операции с коммерческой недвижимостью</td>\n",
       "      <td>0</td>\n",
       "    </tr>\n",
       "    <tr>\n",
       "      <th>13741</th>\n",
       "      <td>0</td>\n",
       "      <td>NaN</td>\n",
       "      <td>0</td>\n",
       "      <td>среднее</td>\n",
       "      <td>1</td>\n",
       "      <td>гражданский брак</td>\n",
       "      <td>1</td>\n",
       "      <td>F</td>\n",
       "      <td>сотрудник</td>\n",
       "      <td>0</td>\n",
       "      <td>NaN</td>\n",
       "      <td>на проведение свадьбы</td>\n",
       "      <td>0</td>\n",
       "    </tr>\n",
       "    <tr>\n",
       "      <th>19829</th>\n",
       "      <td>0</td>\n",
       "      <td>NaN</td>\n",
       "      <td>0</td>\n",
       "      <td>среднее</td>\n",
       "      <td>1</td>\n",
       "      <td>женат / замужем</td>\n",
       "      <td>0</td>\n",
       "      <td>F</td>\n",
       "      <td>сотрудник</td>\n",
       "      <td>0</td>\n",
       "      <td>NaN</td>\n",
       "      <td>жилье</td>\n",
       "      <td>0</td>\n",
       "    </tr>\n",
       "  </tbody>\n",
       "</table>\n",
       "</div>"
      ],
      "text/plain": [
       "       children  days_employed  dob_years education  education_id  \\\n",
       "1890          0            NaN          0    высшее             0   \n",
       "4064          1            NaN          0   среднее             1   \n",
       "5014          0            NaN          0   среднее             1   \n",
       "8574          0            NaN          0   среднее             1   \n",
       "12403         3            NaN          0   среднее             1   \n",
       "13741         0            NaN          0   среднее             1   \n",
       "19829         0            NaN          0   среднее             1   \n",
       "\n",
       "               family_status  family_status_id gender income_type  debt  \\\n",
       "1890   Не женат / не замужем                 4      F   сотрудник     0   \n",
       "4064        гражданский брак                 1      M   компаньон     0   \n",
       "5014         женат / замужем                 0      F   компаньон     0   \n",
       "8574         женат / замужем                 0      F   сотрудник     0   \n",
       "12403        женат / замужем                 0      M   сотрудник     0   \n",
       "13741       гражданский брак                 1      F   сотрудник     0   \n",
       "19829        женат / замужем                 0      F   сотрудник     0   \n",
       "\n",
       "       total_income                                purpose  days_employed_cat  \n",
       "1890            NaN                                  жилье                  0  \n",
       "4064            NaN                           ремонт жилью                  0  \n",
       "5014            NaN                   покупка недвижимости                  0  \n",
       "8574            NaN                           недвижимость                  0  \n",
       "12403           NaN  операции с коммерческой недвижимостью                  0  \n",
       "13741           NaN                  на проведение свадьбы                  0  \n",
       "19829           NaN                                  жилье                  0  "
      ]
     },
     "execution_count": 28,
     "metadata": {},
     "output_type": "execute_result"
    }
   ],
   "source": [
    "df_copy.loc[df_copy['dob_years'] < 15]"
   ]
  },
  {
   "cell_type": "markdown",
   "metadata": {},
   "source": [
    "Итак 7 сток с возрастом \"0\", с пропусками в стаже и доходе, но все они без долгов по кредитам. Заполню их целым значением среднего возраста людей у которых нет просрочек по кредитам. Хотя можно было бы ими и пожертвовать."
   ]
  },
  {
   "cell_type": "code",
   "execution_count": 29,
   "metadata": {},
   "outputs": [],
   "source": [
    "mean_age_without_debt = df_copy['dob_years'].loc[df_copy['debt'] == 0].mean()\n",
    "df_copy['dob_years'].loc[df_copy['dob_years'] < 15] = int(mean_age_without_debt)"
   ]
  },
  {
   "cell_type": "code",
   "execution_count": 53,
   "metadata": {},
   "outputs": [
    {
     "data": {
      "image/png": "[encoded data removed]",
      "text/plain": [
       "<Figure size 432x288 with 1 Axes>"
      ]
     },
     "metadata": {
      "needs_background": "light"
     },
     "output_type": "display_data"
    }
   ],
   "source": [
    "plt.hist(df_copy['dob_years'])\n",
    "plt.title('гистограмма распределения возраста')\n",
    "plt.xlabel('dob_years')\n",
    "plt.ylabel('amount')\n",
    "plt.show()"
   ]
  },
  {
   "cell_type": "markdown",
   "metadata": {},
   "source": [
    "Отлично с одним столбцом разобрался. Теперь вернемся к началу и продолжим рабираться с данными в столбце 'days_employed'. Для этого создам столбец с категориями по возрасту и раcчитаю средний трудовой стаж по каждой категории и дальше заполню пропуски его целым значением."
   ]
  },
  {
   "cell_type": "code",
   "execution_count": 31,
   "metadata": {},
   "outputs": [],
   "source": [
    "df_copy['age_cat'] = 0\n",
    "step_age_cat = (df_copy['dob_years'].max() - df_copy['dob_years'].min())/10\n",
    "age_min = df_copy['dob_years'].min()\n",
    "cat = 1\n",
    "while age_min <= df_copy['dob_years'].max():\n",
    "    df_copy['age_cat'].loc[(df_copy['dob_years'] >= age_min) & (df_copy['dob_years'] < (age_min + step_age_cat))] = cat    \n",
    "    age_min += step_age_cat\n",
    "    cat += 1"
   ]
  },
  {
   "cell_type": "code",
   "execution_count": 32,
   "metadata": {},
   "outputs": [
    {
     "data": {
      "text/plain": [
       "11"
      ]
     },
     "execution_count": 32,
     "metadata": {},
     "output_type": "execute_result"
    }
   ],
   "source": [
    "df_copy['age_cat'].max()"
   ]
  },
  {
   "cell_type": "code",
   "execution_count": 33,
   "metadata": {},
   "outputs": [],
   "source": [
    "n_age_cat = 1\n",
    "while n_age_cat <= df_copy['age_cat'].max():\n",
    "    mean_days_employed = df_copy['days_employed'].loc[(df_copy['age_cat'] == n_age_cat) & (df_copy['days_employed'] < 50000) & (df_copy['days_employed'].notna())].mean()\n",
    "    \n",
    "    try: \n",
    "        df_copy['days_employed'].loc[(df_copy['age_cat'] == n_age_cat) & (df_copy['days_employed'].isna())] = mean_days_employed\n",
    "        df_copy['days_employed'].loc[(df_copy['age_cat'] == n_age_cat) & (df_copy['days_employed'].notna()) & (df_copy['days_employed'] > 50000)] = mean_days_employed\n",
    "        \n",
    "    except:\n",
    "        print(n_age_cat)\n",
    "    n_age_cat += 1"
   ]
  },
  {
   "cell_type": "code",
   "execution_count": 55,
   "metadata": {},
   "outputs": [
    {
     "data": {
      "image/png": "[encoded data removed]",
      "text/plain": [
       "<Figure size 432x288 with 1 Axes>"
      ]
     },
     "metadata": {
      "needs_background": "light"
     },
     "output_type": "display_data"
    }
   ],
   "source": [
    "plt.hist(df_copy['days_employed'])\n",
    "plt.title('гистограмма распределения трудового стажа')\n",
    "plt.xlabel('days_employed')\n",
    "plt.ylabel('amount')\n",
    "plt.show()"
   ]
  },
  {
   "cell_type": "markdown",
   "metadata": {},
   "source": [
    "С этим столбцом тоже разобрался. Дальше надо заполнить доходы."
   ]
  },
  {
   "cell_type": "markdown",
   "metadata": {},
   "source": [
    "Для заполнения пропусков в доходах я буду ориентироваться на 2 столбца: income_type и age_cat. Найду средние значения дохода по типу дохода для каждой возрастной категории и заполню пропуски."
   ]
  },
  {
   "cell_type": "code",
   "execution_count": 35,
   "metadata": {},
   "outputs": [],
   "source": [
    "for n_income_type in list(df_copy.loc[df_copy['total_income'].isna()]['income_type'].unique()):\n",
    "    for n_age_cat in list(df_copy['age_cat'].unique()):\n",
    "        data = df_copy.loc[(df_copy['income_type'] == n_income_type) & (df_copy['age_cat'] == n_age_cat)]['total_income']\n",
    "        if True in list(data.isna()):\n",
    "            mean_income = data.mean()\n",
    "            if len(list(data.isna())) > 1:\n",
    "                df_copy['total_income'].loc[(df_copy['income_type'] == n_income_type) & (df_copy['age_cat'] == n_age_cat) & (df_copy['total_income'].isna())] = mean_income\n",
    "            else:\n",
    "                df_copy['total_income'].loc[df_copy['total_income'].isna()] = df_copy['total_income'].mean()\n",
    "\n",
    "               "
   ]
  },
  {
   "cell_type": "code",
   "execution_count": 36,
   "metadata": {},
   "outputs": [
    {
     "name": "stdout",
     "output_type": "stream",
     "text": [
      "<class 'pandas.core.frame.DataFrame'>\n",
      "RangeIndex: 21525 entries, 0 to 21524\n",
      "Data columns (total 14 columns):\n",
      " #   Column             Non-Null Count  Dtype  \n",
      "---  ------             --------------  -----  \n",
      " 0   children           21525 non-null  int64  \n",
      " 1   days_employed      21525 non-null  float64\n",
      " 2   dob_years          21525 non-null  int64  \n",
      " 3   education          21525 non-null  object \n",
      " 4   education_id       21525 non-null  int64  \n",
      " 5   family_status      21525 non-null  object \n",
      " 6   family_status_id   21525 non-null  int64  \n",
      " 7   gender             21525 non-null  object \n",
      " 8   income_type        21525 non-null  object \n",
      " 9   debt               21525 non-null  int64  \n",
      " 10  total_income       21525 non-null  float64\n",
      " 11  purpose            21525 non-null  object \n",
      " 12  days_employed_cat  21525 non-null  int64  \n",
      " 13  age_cat            21525 non-null  int64  \n",
      "dtypes: float64(2), int64(7), object(5)\n",
      "memory usage: 2.3+ MB\n"
     ]
    }
   ],
   "source": [
    "df_copy.info()"
   ]
  },
  {
   "cell_type": "markdown",
   "metadata": {},
   "source": [
    "**Вывод**"
   ]
  },
  {
   "cell_type": "markdown",
   "metadata": {},
   "source": [
    "Теперь пропуски заполнены и можно продолжать работу."
   ]
  },
  {
   "cell_type": "markdown",
   "metadata": {},
   "source": [
    "### Замена типа данных"
   ]
  },
  {
   "cell_type": "markdown",
   "metadata": {},
   "source": [
    "Для изменения типа данных в столбце воспользуюсь методом astype(). Насколько я понимаю, если строить модель машинного обучения по имеющимся данным, она будет учитывать данные в столбцах education_id, family_status_id и созданные мною days_employed_cat, age_cat  как данные целого типа и чем больше число (категория) тем больший приоритет будет у данной категории, поэтому я бы поменял тип int на object в этих столбцах. Но мы этого не проходили еще, и поэтому оставлю как есть. "
   ]
  },
  {
   "cell_type": "code",
   "execution_count": 37,
   "metadata": {},
   "outputs": [
    {
     "name": "stdout",
     "output_type": "stream",
     "text": [
      "<class 'pandas.core.frame.DataFrame'>\n",
      "RangeIndex: 21525 entries, 0 to 21524\n",
      "Data columns (total 14 columns):\n",
      " #   Column             Non-Null Count  Dtype  \n",
      "---  ------             --------------  -----  \n",
      " 0   children           21525 non-null  int64  \n",
      " 1   days_employed      21525 non-null  float64\n",
      " 2   dob_years          21525 non-null  int64  \n",
      " 3   education          21525 non-null  object \n",
      " 4   education_id       21525 non-null  int64  \n",
      " 5   family_status      21525 non-null  object \n",
      " 6   family_status_id   21525 non-null  int64  \n",
      " 7   gender             21525 non-null  object \n",
      " 8   income_type        21525 non-null  object \n",
      " 9   debt               21525 non-null  int64  \n",
      " 10  total_income       21525 non-null  float64\n",
      " 11  purpose            21525 non-null  object \n",
      " 12  days_employed_cat  21525 non-null  int64  \n",
      " 13  age_cat            21525 non-null  int64  \n",
      "dtypes: float64(2), int64(7), object(5)\n",
      "memory usage: 2.3+ MB\n"
     ]
    }
   ],
   "source": [
    "df_copy.info()"
   ]
  },
  {
   "cell_type": "code",
   "execution_count": 38,
   "metadata": {},
   "outputs": [
    {
     "name": "stdout",
     "output_type": "stream",
     "text": [
      "<class 'pandas.core.frame.DataFrame'>\n",
      "RangeIndex: 21525 entries, 0 to 21524\n",
      "Data columns (total 14 columns):\n",
      " #   Column             Non-Null Count  Dtype  \n",
      "---  ------             --------------  -----  \n",
      " 0   children           21525 non-null  int64  \n",
      " 1   days_employed      21525 non-null  int64  \n",
      " 2   dob_years          21525 non-null  int64  \n",
      " 3   education          21525 non-null  object \n",
      " 4   education_id       21525 non-null  int64  \n",
      " 5   family_status      21525 non-null  object \n",
      " 6   family_status_id   21525 non-null  int64  \n",
      " 7   gender             21525 non-null  object \n",
      " 8   income_type        21525 non-null  object \n",
      " 9   debt               21525 non-null  int64  \n",
      " 10  total_income       21525 non-null  float64\n",
      " 11  purpose            21525 non-null  object \n",
      " 12  days_employed_cat  21525 non-null  int64  \n",
      " 13  age_cat            21525 non-null  int64  \n",
      "dtypes: float64(1), int64(8), object(5)\n",
      "memory usage: 2.3+ MB\n"
     ]
    }
   ],
   "source": [
    "df_copy['days_employed'] = df_copy['days_employed'].astype(int)\n",
    "df_copy.info()"
   ]
  },
  {
   "cell_type": "markdown",
   "metadata": {},
   "source": [
    "**Вывод**"
   ]
  },
  {
   "cell_type": "markdown",
   "metadata": {},
   "source": [
    "Тип данных в столбце days_employed изменен на целочисленный"
   ]
  },
  {
   "cell_type": "markdown",
   "metadata": {},
   "source": [
    "### Обработка дубликатов"
   ]
  },
  {
   "cell_type": "markdown",
   "metadata": {},
   "source": [
    "При работе с дубликатами первым шагом будет приведение столбцов с интересующими меня данными с нижнему регистру. Для этого использую метод lower(). "
   ]
  },
  {
   "cell_type": "code",
   "execution_count": 39,
   "metadata": {},
   "outputs": [],
   "source": [
    "fields = ['education', 'purpose', 'family_status']\n",
    "for field in fields:\n",
    "    df_copy[field] = df_copy[field].str.lower()\n"
   ]
  },
  {
   "cell_type": "code",
   "execution_count": 40,
   "metadata": {},
   "outputs": [
    {
     "name": "stdout",
     "output_type": "stream",
     "text": [
      "['высшее' 'среднее' 'неоконченное высшее' 'начальное' 'ученая степень']\n",
      "['покупка жилья' 'приобретение автомобиля' 'дополнительное образование'\n",
      " 'сыграть свадьбу' 'операции с жильем' 'образование'\n",
      " 'на проведение свадьбы' 'покупка жилья для семьи' 'покупка недвижимости'\n",
      " 'покупка коммерческой недвижимости' 'покупка жилой недвижимости'\n",
      " 'строительство собственной недвижимости' 'недвижимость'\n",
      " 'строительство недвижимости' 'на покупку подержанного автомобиля'\n",
      " 'на покупку своего автомобиля' 'операции с коммерческой недвижимостью'\n",
      " 'строительство жилой недвижимости' 'жилье'\n",
      " 'операции со своей недвижимостью' 'автомобили' 'заняться образованием'\n",
      " 'сделка с подержанным автомобилем' 'получение образования' 'автомобиль'\n",
      " 'свадьба' 'получение дополнительного образования' 'покупка своего жилья'\n",
      " 'операции с недвижимостью' 'получение высшего образования'\n",
      " 'свой автомобиль' 'сделка с автомобилем' 'профильное образование'\n",
      " 'высшее образование' 'покупка жилья для сдачи' 'на покупку автомобиля'\n",
      " 'ремонт жилью' 'заняться высшим образованием']\n",
      "['женат / замужем' 'гражданский брак' 'вдовец / вдова' 'в разводе'\n",
      " 'не женат / не замужем']\n"
     ]
    }
   ],
   "source": [
    "fields = ['education', 'purpose', 'family_status']\n",
    "for field in fields:\n",
    "    print(df_copy[field].unique())\n",
    "\n"
   ]
  },
  {
   "cell_type": "markdown",
   "metadata": {},
   "source": [
    "**Вывод**"
   ]
  },
  {
   "cell_type": "markdown",
   "metadata": {},
   "source": [
    "Привел к нижнему регистру данные в интересующих столбцах с помощью цикла for и метода lower(). Далее найду леммы целей кредита"
   ]
  },
  {
   "cell_type": "markdown",
   "metadata": {},
   "source": [
    "### Лемматизация"
   ]
  },
  {
   "cell_type": "code",
   "execution_count": 41,
   "metadata": {},
   "outputs": [
    {
     "name": "stdout",
     "output_type": "stream",
     "text": [
      "Counter({' ': 56, '\\n': 38, 'недвижимость': 14, 'покупка': 12, 'автомобиль': 8, 'жилье': 7, 'свадьба': 6, 'на': 6, 'строительство': 5, 'приобретение': 4, 'операция': 4, 'образование': 3, 'сыграть': 3, 'с': 3, 'проведение': 3, 'коммерческий': 3, 'собственный': 3, 'жилой': 2, 'подержать': 2, 'свой': 2, 'дополнительный': 1, 'для': 1, 'семья': 1, 'со': 1})\n"
     ]
    }
   ],
   "source": [
    "m = Mystem()\n",
    "text = df_copy['purpose']\n",
    "n_lemmas = []\n",
    "for i in range(len(df_copy['purpose'].unique())):\n",
    "    lemmas = m.lemmatize(text[i])\n",
    "    for j in range(len(lemmas)):\n",
    "        n_lemmas.append(lemmas[j])\n",
    "\n",
    "print(Counter(n_lemmas))"
   ]
  },
  {
   "cell_type": "markdown",
   "metadata": {},
   "source": [
    "**Вывод**"
   ]
  },
  {
   "cell_type": "markdown",
   "metadata": {},
   "source": [
    "Как можно увидеть после подсчета лемматизированных целей кредита, существует не так много уникальных. Могу их выделить и присвоить каждой из них категорию. Единственный момент с недвижимостью, она, в наших целях, бывает жилой и коммерческой, это должны быть разные категории. Возможно выделение двух категорий у автомобилей т.к. есть подержанные и новые, но очень много значений, где указано просто \"автомобиль\" и не понятно новый он или подержанный, поэтому категория для автомобиля будет одна. "
   ]
  },
  {
   "cell_type": "markdown",
   "metadata": {},
   "source": [
    "### Категоризация данных"
   ]
  },
  {
   "cell_type": "markdown",
   "metadata": {},
   "source": [
    "Итак составлю список с леммами целей. "
   ]
  },
  {
   "cell_type": "code",
   "execution_count": 42,
   "metadata": {},
   "outputs": [],
   "source": [
    "purposes_lemmas = ['недвижимость', 'автомобиль', 'жилье', 'свадьба', 'образование', 'жилой', 'коммерческий']"
   ]
  },
  {
   "cell_type": "markdown",
   "metadata": {},
   "source": [
    "Всего у меня получается 5 уникальных целей и соответственно 5 категорий. Присвою им обозначения."
   ]
  },
  {
   "cell_type": "code",
   "execution_count": 43,
   "metadata": {},
   "outputs": [],
   "source": [
    "vehicle = 'автомобиль'\n",
    "realty_home = ['жилье', 'жилой']\n",
    "realty_commerce = 'коммерческий'\n",
    "vedding = 'свадьба'\n",
    "education = 'образование'"
   ]
  },
  {
   "cell_type": "markdown",
   "metadata": {},
   "source": [
    "Далее пробегу циклом по столбцу 'purpose' и текст в каждой ячейке лемматизирую. Потом сравню полученные данные со списком purposes_lemmas и при совпадении лемм в ячейке и какой либо из категорий, ее буквенное обозначение будет вносится в новый столбец с категориями целей (\"purpose_cat\"). "
   ]
  },
  {
   "cell_type": "code",
   "execution_count": 44,
   "metadata": {},
   "outputs": [],
   "source": [
    "def add_purpose(row):\n",
    "    try:\n",
    "        lemma = m.lemmatize(row['purpose'])\n",
    "        if 'автомобиль' in lemma:\n",
    "            return 'vehicle'\n",
    "        elif 'свадьба' in lemma:\n",
    "            return 'vedding'\n",
    "        elif 'коммерческий' in lemma:\n",
    "            return 'realty_commerce'\n",
    "        elif 'образование' in lemma:\n",
    "            return 'education'\n",
    "        else:\n",
    "            return 'realty_home'\n",
    "    except:\n",
    "        return 'ошибка'\n",
    "\n",
    "df_copy['purpose_cat'] = df_copy.apply(add_purpose, axis = 1)"
   ]
  },
  {
   "cell_type": "code",
   "execution_count": null,
   "metadata": {},
   "outputs": [],
   "source": [
    "df_copy['purpose_cat'] = ''\n",
    "num_str = 0\n",
    "for purpose in df_copy['purpose']:\n",
    "    lem_purpose = m.lemmatize(purpose)\n",
    "    if vehicle in lem_purpose:\n",
    "        df_copy['purpose_cat'][num_str] = 'vehicle'\n",
    "    elif vedding in lem_purpose:\n",
    "        df_copy['purpose_cat'][num_str] = 'vedding'\n",
    "    elif education in lem_purpose:\n",
    "        df_copy['purpose_cat'][num_str] = 'education'\n",
    "    elif realty_commerce in lem_purpose:\n",
    "        df_copy['purpose_cat'][num_str] = 'realty_commerce'\n",
    "    else:\n",
    "        df_copy['purpose_cat'][num_str] = 'realty_home'\n",
    "    \n",
    "    num_str += 1\n",
    "        "
   ]
  },
  {
   "cell_type": "markdown",
   "metadata": {},
   "source": [
    "Далее категоризируем заемщиков по уровню доходу. Для этого выделим 5 категорий: низкий, ниже среднего, средний, выше среднего, высокий. Для начала построим гистограмму распределения доходов."
   ]
  },
  {
   "cell_type": "code",
   "execution_count": null,
   "metadata": {},
   "outputs": [],
   "source": [
    "plt.hist(df_copy['total_income'].loc[df_copy['total_income'] < 300000], bins = 10)"
   ]
  },
  {
   "cell_type": "markdown",
   "metadata": {},
   "source": [
    "итак, примем высокий доход все что выше 300 тыс, низкий все что меньше 75 тыс, ниже среднего от 75 тыс до 120 тыс, 120-170 - средний, 170-300 - выше среднего: "
   ]
  },
  {
   "cell_type": "code",
   "execution_count": 100,
   "metadata": {},
   "outputs": [],
   "source": [
    "df_copy['income_cat'] = 0\n",
    "num_str = 0\n",
    "for income in df_copy['total_income']:\n",
    "    if income <= 75000:\n",
    "        df_copy['income_cat'][num_str] = 'low'\n",
    "    elif income > 75000 and income <= 120000:\n",
    "        df_copy['income_cat'][num_str] = 'under_medium'\n",
    "    elif income > 120000 and income <= 170000:\n",
    "        df_copy['income_cat'][num_str] = 'medium'\n",
    "    elif income > 170000 and income <= 300000:\n",
    "        df_copy['income_cat'][num_str] = 'upper_medium'\n",
    "    else:\n",
    "        df_copy['income_cat'][num_str] = 'high'\n",
    "    \n",
    "    num_str += 1"
   ]
  },
  {
   "cell_type": "markdown",
   "metadata": {},
   "source": [
    "**Вывод**"
   ]
  },
  {
   "cell_type": "markdown",
   "metadata": {},
   "source": [
    "Добавил категории по уровню дохода, по возрасту, цели кредита, по трудовому стажу. Данные категории помогли мне выделить группы заемщиков и заполнить пропуски в данных, в дальнейшем выделенные категории помогут в построении модели кредитного скоринга."
   ]
  },
  {
   "cell_type": "markdown",
   "metadata": {},
   "source": [
    "## Шаг 3. Ответьте на вопросы"
   ]
  },
  {
   "cell_type": "markdown",
   "metadata": {},
   "source": [
    "- Есть ли зависимость между наличием детей и возвратом кредита в срок?"
   ]
  },
  {
   "cell_type": "code",
   "execution_count": 60,
   "metadata": {},
   "outputs": [
    {
     "name": "stdout",
     "output_type": "stream",
     "text": [
      "количество добросоветных плательщиков с детьми - 0, количество недобросоветных плательщиков с детьми - 678\n"
     ]
    }
   ],
   "source": [
    "with_debt_with_children = df_copy['debt'].loc[(df_copy['children'] != 0) & (df_copy['debt'] == 1)].sum()/\n",
    "without_debt_with_children = df_copy['debt'].loc[(df_copy['children'] != 0) & (df_copy['debt'] == 0)].sum()\n",
    "print(f'количество добросоветных плательщиков с детьми - {without_debt_with_children}, количество недобросоветных плательщиков с детьми - {with_debt_with_children}')"
   ]
  },
  {
   "cell_type": "code",
   "execution_count": 75,
   "metadata": {},
   "outputs": [
    {
     "name": "stdout",
     "output_type": "stream",
     "text": [
      "Доля должников с детьми: 9.2%\n"
     ]
    }
   ],
   "source": [
    "with_debt_with_children = len(df_copy['debt'].loc[(df_copy['children'] > 0) & (df_copy['debt'] > 0)]) / len(df_copy['debt'].loc[(df_copy['children'] > 0)])\n",
    "print('Доля должников с детьми: {:.1%}'.format(with_debt_with_children))"
   ]
  },
  {
   "cell_type": "raw",
   "metadata": {},
   "source": [
    "children_debt = df_copy.loc[((df_copy['children']>0) & (df_copy['debt']>0)), 'children'].count() / df_copy.loc[df_copy['children']>0, 'children'].count() \n",
    "print('Доля должников с детьми: {:.1%}'.format(children_debt))"
   ]
  },
  {
   "cell_type": "raw",
   "metadata": {},
   "source": [
    "df_example = df_copy.groupby('children')['debt'].agg(['count', 'sum', 'mean', lambda x: 1 - x.mean()])\n",
    "df_example.columns = ['Кол-во пользователей', 'Кол-во должников', '% должников', '% НЕдолжников']\n",
    "df_example.style.format({'% должников': '{:.2%}', '% НЕдолжников': '{:.2%}'})"
   ]
  },
  {
   "cell_type": "code",
   "execution_count": 93,
   "metadata": {},
   "outputs": [
    {
     "data": {
      "text/html": [
       "<style  type=\"text/css\" >\n",
       "</style><table id=\"T_01032698_213d_11ec_8236_600308a9f816\" ><thead>    <tr>        <th class=\"blank level0\" ></th>        <th class=\"col_heading level0 col0\" >Кол-во пользователей</th>        <th class=\"col_heading level0 col1\" >Кол-во должников</th>        <th class=\"col_heading level0 col2\" >% должников</th>        <th class=\"col_heading level0 col3\" >% НЕдолжников</th>    </tr>    <tr>        <th class=\"index_name level0\" >children</th>        <th class=\"blank\" ></th>        <th class=\"blank\" ></th>        <th class=\"blank\" ></th>        <th class=\"blank\" ></th>    </tr></thead><tbody>\n",
       "                <tr>\n",
       "                        <th id=\"T_01032698_213d_11ec_8236_600308a9f816level0_row0\" class=\"row_heading level0 row0\" >0.0</th>\n",
       "                        <td id=\"T_01032698_213d_11ec_8236_600308a9f816row0_col0\" class=\"data row0 col0\" >14225</td>\n",
       "                        <td id=\"T_01032698_213d_11ec_8236_600308a9f816row0_col1\" class=\"data row0 col1\" >1071</td>\n",
       "                        <td id=\"T_01032698_213d_11ec_8236_600308a9f816row0_col2\" class=\"data row0 col2\" >7.53%</td>\n",
       "                        <td id=\"T_01032698_213d_11ec_8236_600308a9f816row0_col3\" class=\"data row0 col3\" >92.47%</td>\n",
       "            </tr>\n",
       "            <tr>\n",
       "                        <th id=\"T_01032698_213d_11ec_8236_600308a9f816level0_row1\" class=\"row_heading level0 row1\" >1.0</th>\n",
       "                        <td id=\"T_01032698_213d_11ec_8236_600308a9f816row1_col0\" class=\"data row1 col0\" >4865</td>\n",
       "                        <td id=\"T_01032698_213d_11ec_8236_600308a9f816row1_col1\" class=\"data row1 col1\" >445</td>\n",
       "                        <td id=\"T_01032698_213d_11ec_8236_600308a9f816row1_col2\" class=\"data row1 col2\" >9.15%</td>\n",
       "                        <td id=\"T_01032698_213d_11ec_8236_600308a9f816row1_col3\" class=\"data row1 col3\" >90.85%</td>\n",
       "            </tr>\n",
       "            <tr>\n",
       "                        <th id=\"T_01032698_213d_11ec_8236_600308a9f816level0_row2\" class=\"row_heading level0 row2\" >2.0</th>\n",
       "                        <td id=\"T_01032698_213d_11ec_8236_600308a9f816row2_col0\" class=\"data row2 col0\" >2055</td>\n",
       "                        <td id=\"T_01032698_213d_11ec_8236_600308a9f816row2_col1\" class=\"data row2 col1\" >194</td>\n",
       "                        <td id=\"T_01032698_213d_11ec_8236_600308a9f816row2_col2\" class=\"data row2 col2\" >9.44%</td>\n",
       "                        <td id=\"T_01032698_213d_11ec_8236_600308a9f816row2_col3\" class=\"data row2 col3\" >90.56%</td>\n",
       "            </tr>\n",
       "            <tr>\n",
       "                        <th id=\"T_01032698_213d_11ec_8236_600308a9f816level0_row3\" class=\"row_heading level0 row3\" >3.0</th>\n",
       "                        <td id=\"T_01032698_213d_11ec_8236_600308a9f816row3_col0\" class=\"data row3 col0\" >330</td>\n",
       "                        <td id=\"T_01032698_213d_11ec_8236_600308a9f816row3_col1\" class=\"data row3 col1\" >27</td>\n",
       "                        <td id=\"T_01032698_213d_11ec_8236_600308a9f816row3_col2\" class=\"data row3 col2\" >8.18%</td>\n",
       "                        <td id=\"T_01032698_213d_11ec_8236_600308a9f816row3_col3\" class=\"data row3 col3\" >91.82%</td>\n",
       "            </tr>\n",
       "            <tr>\n",
       "                        <th id=\"T_01032698_213d_11ec_8236_600308a9f816level0_row4\" class=\"row_heading level0 row4\" >4.0</th>\n",
       "                        <td id=\"T_01032698_213d_11ec_8236_600308a9f816row4_col0\" class=\"data row4 col0\" >41</td>\n",
       "                        <td id=\"T_01032698_213d_11ec_8236_600308a9f816row4_col1\" class=\"data row4 col1\" >4</td>\n",
       "                        <td id=\"T_01032698_213d_11ec_8236_600308a9f816row4_col2\" class=\"data row4 col2\" >9.76%</td>\n",
       "                        <td id=\"T_01032698_213d_11ec_8236_600308a9f816row4_col3\" class=\"data row4 col3\" >90.24%</td>\n",
       "            </tr>\n",
       "            <tr>\n",
       "                        <th id=\"T_01032698_213d_11ec_8236_600308a9f816level0_row5\" class=\"row_heading level0 row5\" >5.0</th>\n",
       "                        <td id=\"T_01032698_213d_11ec_8236_600308a9f816row5_col0\" class=\"data row5 col0\" >9</td>\n",
       "                        <td id=\"T_01032698_213d_11ec_8236_600308a9f816row5_col1\" class=\"data row5 col1\" >0</td>\n",
       "                        <td id=\"T_01032698_213d_11ec_8236_600308a9f816row5_col2\" class=\"data row5 col2\" >0.00%</td>\n",
       "                        <td id=\"T_01032698_213d_11ec_8236_600308a9f816row5_col3\" class=\"data row5 col3\" >100.00%</td>\n",
       "            </tr>\n",
       "    </tbody></table>"
      ],
      "text/plain": [
       "<pandas.io.formats.style.Styler at 0x7f824eb94950>"
      ]
     },
     "execution_count": 93,
     "metadata": {},
     "output_type": "execute_result"
    }
   ],
   "source": [
    "df_chilren_debt = df_copy.groupby('children')['debt'].agg(['count', 'sum', 'mean', lambda x: 1 - x.mean()])\n",
    "df_chilren_debt.columns = ['Кол-во пользователей', 'Кол-во должников', '% должников', '% НЕдолжников']\n",
    "df_chilren_debt.style.format({'% должников': '{:.2%}', '% НЕдолжников': '{:.2%}'})"
   ]
  },
  {
   "cell_type": "markdown",
   "metadata": {},
   "source": [
    "**Вывод**"
   ]
  },
  {
   "cell_type": "markdown",
   "metadata": {},
   "source": [
    "Получается больше всего должников среди тех у кого есть дети. в данных 9 человек у которых 5 детей и нет просрочек по кредиту, их количество достаточно мало, чтобы строить по ним скоринговую модель."
   ]
  },
  {
   "cell_type": "markdown",
   "metadata": {},
   "source": [
    "<div class=\"alert alert-info\">\n",
    "Исправил </div>"
   ]
  },
  {
   "cell_type": "markdown",
   "metadata": {},
   "source": [
    "- Есть ли зависимость между семейным положением и возвратом кредита в срок?"
   ]
  },
  {
   "cell_type": "code",
   "execution_count": 95,
   "metadata": {},
   "outputs": [
    {
     "data": {
      "text/html": [
       "<style  type=\"text/css\" >\n",
       "</style><table id=\"T_8a67ecd4_213d_11ec_8236_600308a9f816\" ><thead>    <tr>        <th class=\"blank level0\" ></th>        <th class=\"col_heading level0 col0\" >Кол-во пользователей</th>        <th class=\"col_heading level0 col1\" >Кол-во должников</th>        <th class=\"col_heading level0 col2\" >% должников</th>        <th class=\"col_heading level0 col3\" >% НЕдолжников</th>    </tr>    <tr>        <th class=\"index_name level0\" >family_status</th>        <th class=\"blank\" ></th>        <th class=\"blank\" ></th>        <th class=\"blank\" ></th>        <th class=\"blank\" ></th>    </tr></thead><tbody>\n",
       "                <tr>\n",
       "                        <th id=\"T_8a67ecd4_213d_11ec_8236_600308a9f816level0_row0\" class=\"row_heading level0 row0\" >в разводе</th>\n",
       "                        <td id=\"T_8a67ecd4_213d_11ec_8236_600308a9f816row0_col0\" class=\"data row0 col0\" >1195</td>\n",
       "                        <td id=\"T_8a67ecd4_213d_11ec_8236_600308a9f816row0_col1\" class=\"data row0 col1\" >85</td>\n",
       "                        <td id=\"T_8a67ecd4_213d_11ec_8236_600308a9f816row0_col2\" class=\"data row0 col2\" >7.11%</td>\n",
       "                        <td id=\"T_8a67ecd4_213d_11ec_8236_600308a9f816row0_col3\" class=\"data row0 col3\" >92.89%</td>\n",
       "            </tr>\n",
       "            <tr>\n",
       "                        <th id=\"T_8a67ecd4_213d_11ec_8236_600308a9f816level0_row1\" class=\"row_heading level0 row1\" >вдовец / вдова</th>\n",
       "                        <td id=\"T_8a67ecd4_213d_11ec_8236_600308a9f816row1_col0\" class=\"data row1 col0\" >960</td>\n",
       "                        <td id=\"T_8a67ecd4_213d_11ec_8236_600308a9f816row1_col1\" class=\"data row1 col1\" >63</td>\n",
       "                        <td id=\"T_8a67ecd4_213d_11ec_8236_600308a9f816row1_col2\" class=\"data row1 col2\" >6.56%</td>\n",
       "                        <td id=\"T_8a67ecd4_213d_11ec_8236_600308a9f816row1_col3\" class=\"data row1 col3\" >93.44%</td>\n",
       "            </tr>\n",
       "            <tr>\n",
       "                        <th id=\"T_8a67ecd4_213d_11ec_8236_600308a9f816level0_row2\" class=\"row_heading level0 row2\" >гражданский брак</th>\n",
       "                        <td id=\"T_8a67ecd4_213d_11ec_8236_600308a9f816row2_col0\" class=\"data row2 col0\" >4177</td>\n",
       "                        <td id=\"T_8a67ecd4_213d_11ec_8236_600308a9f816row2_col1\" class=\"data row2 col1\" >388</td>\n",
       "                        <td id=\"T_8a67ecd4_213d_11ec_8236_600308a9f816row2_col2\" class=\"data row2 col2\" >9.29%</td>\n",
       "                        <td id=\"T_8a67ecd4_213d_11ec_8236_600308a9f816row2_col3\" class=\"data row2 col3\" >90.71%</td>\n",
       "            </tr>\n",
       "            <tr>\n",
       "                        <th id=\"T_8a67ecd4_213d_11ec_8236_600308a9f816level0_row3\" class=\"row_heading level0 row3\" >женат / замужем</th>\n",
       "                        <td id=\"T_8a67ecd4_213d_11ec_8236_600308a9f816row3_col0\" class=\"data row3 col0\" >12380</td>\n",
       "                        <td id=\"T_8a67ecd4_213d_11ec_8236_600308a9f816row3_col1\" class=\"data row3 col1\" >931</td>\n",
       "                        <td id=\"T_8a67ecd4_213d_11ec_8236_600308a9f816row3_col2\" class=\"data row3 col2\" >7.52%</td>\n",
       "                        <td id=\"T_8a67ecd4_213d_11ec_8236_600308a9f816row3_col3\" class=\"data row3 col3\" >92.48%</td>\n",
       "            </tr>\n",
       "            <tr>\n",
       "                        <th id=\"T_8a67ecd4_213d_11ec_8236_600308a9f816level0_row4\" class=\"row_heading level0 row4\" >не женат / не замужем</th>\n",
       "                        <td id=\"T_8a67ecd4_213d_11ec_8236_600308a9f816row4_col0\" class=\"data row4 col0\" >2813</td>\n",
       "                        <td id=\"T_8a67ecd4_213d_11ec_8236_600308a9f816row4_col1\" class=\"data row4 col1\" >274</td>\n",
       "                        <td id=\"T_8a67ecd4_213d_11ec_8236_600308a9f816row4_col2\" class=\"data row4 col2\" >9.74%</td>\n",
       "                        <td id=\"T_8a67ecd4_213d_11ec_8236_600308a9f816row4_col3\" class=\"data row4 col3\" >90.26%</td>\n",
       "            </tr>\n",
       "    </tbody></table>"
      ],
      "text/plain": [
       "<pandas.io.formats.style.Styler at 0x7f824e1daf10>"
      ]
     },
     "execution_count": 95,
     "metadata": {},
     "output_type": "execute_result"
    }
   ],
   "source": [
    "df_married_debt = df_copy.groupby('family_status')['debt'].agg(['count', 'sum', 'mean', lambda x: 1 - x.mean()])\n",
    "df_married_debt.columns = ['Кол-во пользователей', 'Кол-во должников', '% должников', '% НЕдолжников']\n",
    "df_married_debt.style.format({'% должников': '{:.2%}', '% НЕдолжников': '{:.2%}'})"
   ]
  },
  {
   "cell_type": "markdown",
   "metadata": {},
   "source": [
    "**Вывод**"
   ]
  },
  {
   "cell_type": "markdown",
   "metadata": {},
   "source": [
    "Получается больше всего должников среди тех кто не в браке или живет в гражданском браке."
   ]
  },
  {
   "cell_type": "markdown",
   "metadata": {},
   "source": [
    "- Есть ли зависимость между уровнем дохода и возвратом кредита в срок?"
   ]
  },
  {
   "cell_type": "code",
   "execution_count": 101,
   "metadata": {},
   "outputs": [
    {
     "data": {
      "text/html": [
       "<style  type=\"text/css\" >\n",
       "</style><table id=\"T_5ba72686_2146_11ec_8236_600308a9f816\" ><thead>    <tr>        <th class=\"blank level0\" ></th>        <th class=\"col_heading level0 col0\" >Кол-во пользователей</th>        <th class=\"col_heading level0 col1\" >Кол-во должников</th>        <th class=\"col_heading level0 col2\" >% должников</th>        <th class=\"col_heading level0 col3\" >% НЕдолжников</th>    </tr>    <tr>        <th class=\"index_name level0\" >income_cat</th>        <th class=\"blank\" ></th>        <th class=\"blank\" ></th>        <th class=\"blank\" ></th>        <th class=\"blank\" ></th>    </tr></thead><tbody>\n",
       "                <tr>\n",
       "                        <th id=\"T_5ba72686_2146_11ec_8236_600308a9f816level0_row0\" class=\"row_heading level0 row0\" >high</th>\n",
       "                        <td id=\"T_5ba72686_2146_11ec_8236_600308a9f816row0_col0\" class=\"data row0 col0\" >1482</td>\n",
       "                        <td id=\"T_5ba72686_2146_11ec_8236_600308a9f816row0_col1\" class=\"data row0 col1\" >106</td>\n",
       "                        <td id=\"T_5ba72686_2146_11ec_8236_600308a9f816row0_col2\" class=\"data row0 col2\" >7.15%</td>\n",
       "                        <td id=\"T_5ba72686_2146_11ec_8236_600308a9f816row0_col3\" class=\"data row0 col3\" >92.85%</td>\n",
       "            </tr>\n",
       "            <tr>\n",
       "                        <th id=\"T_5ba72686_2146_11ec_8236_600308a9f816level0_row1\" class=\"row_heading level0 row1\" >low</th>\n",
       "                        <td id=\"T_5ba72686_2146_11ec_8236_600308a9f816row1_col0\" class=\"data row1 col0\" >1865</td>\n",
       "                        <td id=\"T_5ba72686_2146_11ec_8236_600308a9f816row1_col1\" class=\"data row1 col1\" >136</td>\n",
       "                        <td id=\"T_5ba72686_2146_11ec_8236_600308a9f816row1_col2\" class=\"data row1 col2\" >7.29%</td>\n",
       "                        <td id=\"T_5ba72686_2146_11ec_8236_600308a9f816row1_col3\" class=\"data row1 col3\" >92.71%</td>\n",
       "            </tr>\n",
       "            <tr>\n",
       "                        <th id=\"T_5ba72686_2146_11ec_8236_600308a9f816level0_row2\" class=\"row_heading level0 row2\" >medium</th>\n",
       "                        <td id=\"T_5ba72686_2146_11ec_8236_600308a9f816row2_col0\" class=\"data row2 col0\" >6860</td>\n",
       "                        <td id=\"T_5ba72686_2146_11ec_8236_600308a9f816row2_col1\" class=\"data row2 col1\" >610</td>\n",
       "                        <td id=\"T_5ba72686_2146_11ec_8236_600308a9f816row2_col2\" class=\"data row2 col2\" >8.89%</td>\n",
       "                        <td id=\"T_5ba72686_2146_11ec_8236_600308a9f816row2_col3\" class=\"data row2 col3\" >91.11%</td>\n",
       "            </tr>\n",
       "            <tr>\n",
       "                        <th id=\"T_5ba72686_2146_11ec_8236_600308a9f816level0_row3\" class=\"row_heading level0 row3\" >under_medium</th>\n",
       "                        <td id=\"T_5ba72686_2146_11ec_8236_600308a9f816row3_col0\" class=\"data row3 col0\" >4990</td>\n",
       "                        <td id=\"T_5ba72686_2146_11ec_8236_600308a9f816row3_col1\" class=\"data row3 col1\" >416</td>\n",
       "                        <td id=\"T_5ba72686_2146_11ec_8236_600308a9f816row3_col2\" class=\"data row3 col2\" >8.34%</td>\n",
       "                        <td id=\"T_5ba72686_2146_11ec_8236_600308a9f816row3_col3\" class=\"data row3 col3\" >91.66%</td>\n",
       "            </tr>\n",
       "            <tr>\n",
       "                        <th id=\"T_5ba72686_2146_11ec_8236_600308a9f816level0_row4\" class=\"row_heading level0 row4\" >upper_medium</th>\n",
       "                        <td id=\"T_5ba72686_2146_11ec_8236_600308a9f816row4_col0\" class=\"data row4 col0\" >6328</td>\n",
       "                        <td id=\"T_5ba72686_2146_11ec_8236_600308a9f816row4_col1\" class=\"data row4 col1\" >473</td>\n",
       "                        <td id=\"T_5ba72686_2146_11ec_8236_600308a9f816row4_col2\" class=\"data row4 col2\" >7.47%</td>\n",
       "                        <td id=\"T_5ba72686_2146_11ec_8236_600308a9f816row4_col3\" class=\"data row4 col3\" >92.53%</td>\n",
       "            </tr>\n",
       "    </tbody></table>"
      ],
      "text/plain": [
       "<pandas.io.formats.style.Styler at 0x7f824d5a9b90>"
      ]
     },
     "execution_count": 101,
     "metadata": {},
     "output_type": "execute_result"
    }
   ],
   "source": [
    "df_income_debt = df_copy.groupby('income_cat')['debt'].agg(['count', 'sum', 'mean', lambda x: 1 - x.mean()])\n",
    "df_income_debt.columns = ['Кол-во пользователей', 'Кол-во должников', '% должников', '% НЕдолжников']\n",
    "df_income_debt.style.format({'% должников': '{:.2%}', '% НЕдолжников': '{:.2%}'})"
   ]
  },
  {
   "cell_type": "markdown",
   "metadata": {},
   "source": [
    "**Вывод**"
   ]
  },
  {
   "cell_type": "markdown",
   "metadata": {},
   "source": [
    "больше всего должников со средним и выше среднего доходами"
   ]
  },
  {
   "cell_type": "markdown",
   "metadata": {},
   "source": [
    "- Как разные цели кредита влияют на его возврат в срок?"
   ]
  },
  {
   "cell_type": "code",
   "execution_count": 103,
   "metadata": {},
   "outputs": [
    {
     "data": {
      "text/html": [
       "<style  type=\"text/css\" >\n",
       "</style><table id=\"T_4432556e_2148_11ec_8236_600308a9f816\" ><thead>    <tr>        <th class=\"blank level0\" ></th>        <th class=\"col_heading level0 col0\" >Кол-во пользователей</th>        <th class=\"col_heading level0 col1\" >Кол-во должников</th>        <th class=\"col_heading level0 col2\" >% должников</th>        <th class=\"col_heading level0 col3\" >% НЕдолжников</th>    </tr>    <tr>        <th class=\"index_name level0\" >purpose_cat</th>        <th class=\"blank\" ></th>        <th class=\"blank\" ></th>        <th class=\"blank\" ></th>        <th class=\"blank\" ></th>    </tr></thead><tbody>\n",
       "                <tr>\n",
       "                        <th id=\"T_4432556e_2148_11ec_8236_600308a9f816level0_row0\" class=\"row_heading level0 row0\" >education</th>\n",
       "                        <td id=\"T_4432556e_2148_11ec_8236_600308a9f816row0_col0\" class=\"data row0 col0\" >4022</td>\n",
       "                        <td id=\"T_4432556e_2148_11ec_8236_600308a9f816row0_col1\" class=\"data row0 col1\" >370</td>\n",
       "                        <td id=\"T_4432556e_2148_11ec_8236_600308a9f816row0_col2\" class=\"data row0 col2\" >9.20%</td>\n",
       "                        <td id=\"T_4432556e_2148_11ec_8236_600308a9f816row0_col3\" class=\"data row0 col3\" >90.80%</td>\n",
       "            </tr>\n",
       "            <tr>\n",
       "                        <th id=\"T_4432556e_2148_11ec_8236_600308a9f816level0_row1\" class=\"row_heading level0 row1\" >realty_commerce</th>\n",
       "                        <td id=\"T_4432556e_2148_11ec_8236_600308a9f816row1_col0\" class=\"data row1 col0\" >1315</td>\n",
       "                        <td id=\"T_4432556e_2148_11ec_8236_600308a9f816row1_col1\" class=\"data row1 col1\" >99</td>\n",
       "                        <td id=\"T_4432556e_2148_11ec_8236_600308a9f816row1_col2\" class=\"data row1 col2\" >7.53%</td>\n",
       "                        <td id=\"T_4432556e_2148_11ec_8236_600308a9f816row1_col3\" class=\"data row1 col3\" >92.47%</td>\n",
       "            </tr>\n",
       "            <tr>\n",
       "                        <th id=\"T_4432556e_2148_11ec_8236_600308a9f816level0_row2\" class=\"row_heading level0 row2\" >realty_home</th>\n",
       "                        <td id=\"T_4432556e_2148_11ec_8236_600308a9f816row2_col0\" class=\"data row2 col0\" >9525</td>\n",
       "                        <td id=\"T_4432556e_2148_11ec_8236_600308a9f816row2_col1\" class=\"data row2 col1\" >683</td>\n",
       "                        <td id=\"T_4432556e_2148_11ec_8236_600308a9f816row2_col2\" class=\"data row2 col2\" >7.17%</td>\n",
       "                        <td id=\"T_4432556e_2148_11ec_8236_600308a9f816row2_col3\" class=\"data row2 col3\" >92.83%</td>\n",
       "            </tr>\n",
       "            <tr>\n",
       "                        <th id=\"T_4432556e_2148_11ec_8236_600308a9f816level0_row3\" class=\"row_heading level0 row3\" >vedding</th>\n",
       "                        <td id=\"T_4432556e_2148_11ec_8236_600308a9f816row3_col0\" class=\"data row3 col0\" >2348</td>\n",
       "                        <td id=\"T_4432556e_2148_11ec_8236_600308a9f816row3_col1\" class=\"data row3 col1\" >186</td>\n",
       "                        <td id=\"T_4432556e_2148_11ec_8236_600308a9f816row3_col2\" class=\"data row3 col2\" >7.92%</td>\n",
       "                        <td id=\"T_4432556e_2148_11ec_8236_600308a9f816row3_col3\" class=\"data row3 col3\" >92.08%</td>\n",
       "            </tr>\n",
       "            <tr>\n",
       "                        <th id=\"T_4432556e_2148_11ec_8236_600308a9f816level0_row4\" class=\"row_heading level0 row4\" >vehicle</th>\n",
       "                        <td id=\"T_4432556e_2148_11ec_8236_600308a9f816row4_col0\" class=\"data row4 col0\" >4315</td>\n",
       "                        <td id=\"T_4432556e_2148_11ec_8236_600308a9f816row4_col1\" class=\"data row4 col1\" >403</td>\n",
       "                        <td id=\"T_4432556e_2148_11ec_8236_600308a9f816row4_col2\" class=\"data row4 col2\" >9.34%</td>\n",
       "                        <td id=\"T_4432556e_2148_11ec_8236_600308a9f816row4_col3\" class=\"data row4 col3\" >90.66%</td>\n",
       "            </tr>\n",
       "    </tbody></table>"
      ],
      "text/plain": [
       "<pandas.io.formats.style.Styler at 0x7f824d5a8c50>"
      ]
     },
     "execution_count": 103,
     "metadata": {},
     "output_type": "execute_result"
    }
   ],
   "source": [
    "df_married_debt = df_copy.groupby('purpose_cat')['debt'].agg(['count', 'sum', 'mean', lambda x: 1 - x.mean()])\n",
    "df_married_debt.columns = ['Кол-во пользователей', 'Кол-во должников', '% должников', '% НЕдолжников']\n",
    "df_married_debt.style.format({'% должников': '{:.2%}', '% НЕдолжников': '{:.2%}'})"
   ]
  },
  {
   "cell_type": "markdown",
   "metadata": {},
   "source": [
    "**Вывод**"
   ]
  },
  {
   "cell_type": "markdown",
   "metadata": {},
   "source": [
    "Больше всего должников среди тех кто берет кредит на образование и автомобиль"
   ]
  },
  {
   "cell_type": "markdown",
   "metadata": {},
   "source": [
    "после проверки результата присвою имя основного датафрэйма рабочему  "
   ]
  },
  {
   "cell_type": "code",
   "execution_count": null,
   "metadata": {},
   "outputs": [],
   "source": [
    "df = df_copy"
   ]
  },
  {
   "cell_type": "markdown",
   "metadata": {},
   "source": [
    "## Шаг 4. Общий вывод"
   ]
  },
  {
   "cell_type": "markdown",
   "metadata": {},
   "source": [
    "Для начала банку нужно понять почему в данных так много пропусков и решить этот вопрос. Процент возврата по кредитам, по рассмотренным категориям, варьируется от 90 до 93 процентов. \n",
    "\n",
    "Больший % должников в рассмотренных категориях имеют заемщики: \n",
    "1) с детьми;\n",
    "2) не в браке;\n",
    "3) в гражданском браке;\n",
    "4) с целями кредита: образование либо автомобиль; \n",
    "5) с доходом средним или выше среднего.\n",
    "\n",
    "Наименьший % должников среди заемщиков:\n",
    "1) без детей; \n",
    "2) вдовцов;\n",
    "3) с высоким доходом;\n",
    "4) берущих кредит на жилье.\n",
    "  "
   ]
  },
  {
   "cell_type": "markdown",
   "metadata": {},
   "source": [
    "## Чек-лист готовности проекта\n",
    "\n",
    "Поставьте 'x' в выполненных пунктах. Далее нажмите Shift+Enter."
   ]
  },
  {
   "cell_type": "markdown",
   "metadata": {},
   "source": [
    "- [x]  открыт файл;\n",
    "- [x]  файл изучен;\n",
    "- [x]  определены пропущенные значения;\n",
    "- [x]  заполнены пропущенные значения;\n",
    "- [x]  есть пояснение, какие пропущенные значения обнаружены;\n",
    "- [x]  описаны возможные причины появления пропусков в данных;\n",
    "- [x]  объяснено, по какому принципу заполнены пропуски;\n",
    "- [x]  заменен вещественный тип данных на целочисленный;\n",
    "- [x]  есть пояснение, какой метод используется для изменения типа данных и почему;\n",
    "- [x]  удалены дубликаты;\n",
    "- [x]  есть пояснение, какой метод используется для поиска и удаления дубликатов;\n",
    "- [x]  описаны возможные причины появления дубликатов в данных;\n",
    "- [x]  выделены леммы в значениях столбца с целями получения кредита;\n",
    "- [x]  описан процесс лемматизации;\n",
    "- [x]  данные категоризированы;\n",
    "- [x]  есть объяснение принципа категоризации данных;\n",
    "- [x]  есть ответ на вопрос: \"Есть ли зависимость между наличием детей и возвратом кредита в срок?\";\n",
    "- [x]  есть ответ на вопрос: \"Есть ли зависимость между семейным положением и возвратом кредита в срок?\";\n",
    "- [x]  есть ответ на вопрос: \"Есть ли зависимость между уровнем дохода и возвратом кредита в срок?\";\n",
    "- [x]  есть ответ на вопрос: \"Как разные цели кредита влияют на его возврат в срок?\";\n",
    "- [x]  в каждом этапе есть выводы;\n",
    "- [x]  есть общий вывод."
   ]
  },
  {
   "cell_type": "code",
   "execution_count": null,
   "metadata": {},
   "outputs": [],
   "source": []
  }
 ],
 "metadata": {
  "ExecuteTimeLog": [
   {
    "duration": 773,
    "start_time": "2021-09-19T14:00:10.321Z"
   },
   {
    "duration": 75,
    "start_time": "2021-09-19T14:01:23.060Z"
   },
   {
    "duration": 28,
    "start_time": "2021-09-19T14:01:39.350Z"
   },
   {
    "duration": 7839,
    "start_time": "2021-09-19T14:07:12.809Z"
   },
   {
    "duration": 12,
    "start_time": "2021-09-19T14:07:41.218Z"
   },
   {
    "duration": 281,
    "start_time": "2021-09-19T14:07:58.541Z"
   },
   {
    "duration": 13,
    "start_time": "2021-09-19T14:08:06.932Z"
   },
   {
    "duration": 251,
    "start_time": "2021-09-19T14:08:24.618Z"
   },
   {
    "duration": 273,
    "start_time": "2021-09-19T14:08:31.670Z"
   },
   {
    "duration": 429,
    "start_time": "2021-09-19T14:08:40.123Z"
   },
   {
    "duration": 273,
    "start_time": "2021-09-19T14:09:02.114Z"
   },
   {
    "duration": 253,
    "start_time": "2021-09-19T14:09:11.484Z"
   },
   {
    "duration": 12,
    "start_time": "2021-09-19T14:11:13.668Z"
   },
   {
    "duration": 25,
    "start_time": "2021-09-19T14:17:34.645Z"
   },
   {
    "duration": 12,
    "start_time": "2021-09-19T14:21:06.268Z"
   },
   {
    "duration": 12,
    "start_time": "2021-09-19T14:21:19.208Z"
   },
   {
    "duration": 248,
    "start_time": "2021-09-19T14:21:29.052Z"
   },
   {
    "duration": 12,
    "start_time": "2021-09-19T14:22:42.580Z"
   },
   {
    "duration": 12,
    "start_time": "2021-09-19T14:22:50.421Z"
   },
   {
    "duration": 12,
    "start_time": "2021-09-19T14:23:06.228Z"
   },
   {
    "duration": 13,
    "start_time": "2021-09-19T14:23:10.008Z"
   },
   {
    "duration": 19,
    "start_time": "2021-09-19T14:23:22.577Z"
   },
   {
    "duration": 34,
    "start_time": "2021-09-19T14:23:39.890Z"
   },
   {
    "duration": 265,
    "start_time": "2021-09-19T14:23:58.214Z"
   },
   {
    "duration": 13,
    "start_time": "2021-09-19T14:24:08.980Z"
   },
   {
    "duration": 34,
    "start_time": "2021-09-19T14:25:23.883Z"
   },
   {
    "duration": 8,
    "start_time": "2021-09-19T14:26:40.601Z"
   },
   {
    "duration": 17,
    "start_time": "2021-09-19T14:27:30.729Z"
   },
   {
    "duration": 14,
    "start_time": "2021-09-19T14:32:45.856Z"
   },
   {
    "duration": 10,
    "start_time": "2021-09-19T14:32:55.348Z"
   },
   {
    "duration": 8,
    "start_time": "2021-09-19T14:33:12.192Z"
   },
   {
    "duration": 8,
    "start_time": "2021-09-19T14:33:21.147Z"
   },
   {
    "duration": 8,
    "start_time": "2021-09-19T14:33:34.635Z"
   },
   {
    "duration": 13,
    "start_time": "2021-09-19T14:33:43.558Z"
   },
   {
    "duration": 8,
    "start_time": "2021-09-19T14:33:51.928Z"
   },
   {
    "duration": 9,
    "start_time": "2021-09-19T14:34:08.138Z"
   },
   {
    "duration": 8,
    "start_time": "2021-09-19T14:34:36.490Z"
   },
   {
    "duration": 10,
    "start_time": "2021-09-19T14:36:39.654Z"
   },
   {
    "duration": 9,
    "start_time": "2021-09-19T14:38:45.747Z"
   },
   {
    "duration": 6,
    "start_time": "2021-09-19T14:41:30.787Z"
   },
   {
    "duration": 13,
    "start_time": "2021-09-19T14:41:47.662Z"
   },
   {
    "duration": 6,
    "start_time": "2021-09-19T14:42:05.393Z"
   },
   {
    "duration": 258,
    "start_time": "2021-09-19T14:43:14.737Z"
   },
   {
    "duration": 450,
    "start_time": "2021-09-19T14:43:45.934Z"
   },
   {
    "duration": 35,
    "start_time": "2021-09-19T14:43:53.111Z"
   },
   {
    "duration": 8,
    "start_time": "2021-09-19T14:43:59.777Z"
   },
   {
    "duration": 12,
    "start_time": "2021-09-19T14:46:04.664Z"
   },
   {
    "duration": 7,
    "start_time": "2021-09-19T14:51:18.422Z"
   },
   {
    "duration": 7,
    "start_time": "2021-09-19T14:52:25.339Z"
   },
   {
    "duration": 19,
    "start_time": "2021-09-19T14:53:30.206Z"
   },
   {
    "duration": 6,
    "start_time": "2021-09-19T14:59:41.603Z"
   },
   {
    "duration": 8,
    "start_time": "2021-09-19T15:00:24.784Z"
   },
   {
    "duration": 9,
    "start_time": "2021-09-19T15:08:06.423Z"
   },
   {
    "duration": 47,
    "start_time": "2021-09-19T15:08:11.147Z"
   },
   {
    "duration": 19,
    "start_time": "2021-09-19T15:08:49.558Z"
   },
   {
    "duration": 10,
    "start_time": "2021-09-19T15:13:49.502Z"
   },
   {
    "duration": 10,
    "start_time": "2021-09-19T15:19:02.831Z"
   },
   {
    "duration": 31,
    "start_time": "2021-09-19T15:19:12.561Z"
   },
   {
    "duration": 9,
    "start_time": "2021-09-19T15:23:31.803Z"
   },
   {
    "duration": 19,
    "start_time": "2021-09-19T15:23:45.196Z"
   },
   {
    "duration": 7,
    "start_time": "2021-09-19T15:26:49.396Z"
   },
   {
    "duration": 4,
    "start_time": "2021-09-19T15:26:59.487Z"
   },
   {
    "duration": 7449,
    "start_time": "2021-09-19T15:27:09.082Z"
   },
   {
    "duration": 257,
    "start_time": "2021-09-19T15:27:27.411Z"
   },
   {
    "duration": 3,
    "start_time": "2021-09-19T15:27:51.415Z"
   },
   {
    "duration": 73,
    "start_time": "2021-09-19T15:27:53.463Z"
   },
   {
    "duration": 13,
    "start_time": "2021-09-19T15:27:57.592Z"
   },
   {
    "duration": 8,
    "start_time": "2021-09-19T15:27:58.188Z"
   },
   {
    "duration": 8,
    "start_time": "2021-09-19T15:27:58.875Z"
   },
   {
    "duration": 11,
    "start_time": "2021-09-19T15:27:59.630Z"
   },
   {
    "duration": 8,
    "start_time": "2021-09-19T15:28:00.831Z"
   },
   {
    "duration": 7,
    "start_time": "2021-09-19T15:28:02.116Z"
   },
   {
    "duration": 6,
    "start_time": "2021-09-19T15:28:03.423Z"
   },
   {
    "duration": 18,
    "start_time": "2021-09-19T15:28:04.992Z"
   },
   {
    "duration": 6,
    "start_time": "2021-09-19T15:28:06.344Z"
   },
   {
    "duration": 8,
    "start_time": "2021-09-19T15:28:08.594Z"
   },
   {
    "duration": 9,
    "start_time": "2021-09-19T15:28:14.895Z"
   },
   {
    "duration": 20,
    "start_time": "2021-09-19T15:28:19.723Z"
   },
   {
    "duration": 25,
    "start_time": "2021-09-19T15:28:28.362Z"
   },
   {
    "duration": 11,
    "start_time": "2021-09-19T15:28:43.438Z"
   },
   {
    "duration": 12,
    "start_time": "2021-09-19T15:29:22.477Z"
   },
   {
    "duration": 77,
    "start_time": "2021-09-19T15:29:52.863Z"
   },
   {
    "duration": 84,
    "start_time": "2021-09-19T15:30:01.918Z"
   },
   {
    "duration": 1087,
    "start_time": "2021-09-19T15:30:27.647Z"
   },
   {
    "duration": 41,
    "start_time": "2021-09-19T15:31:00.377Z"
   },
   {
    "duration": 37,
    "start_time": "2021-09-19T15:32:22.997Z"
   },
   {
    "duration": 73,
    "start_time": "2021-09-19T15:33:13.172Z"
   },
   {
    "duration": 47,
    "start_time": "2021-09-19T15:33:45.145Z"
   },
   {
    "duration": 40,
    "start_time": "2021-09-19T15:34:48.372Z"
   },
   {
    "duration": 33,
    "start_time": "2021-09-19T15:35:08.079Z"
   },
   {
    "duration": 76,
    "start_time": "2021-09-19T15:35:52.519Z"
   },
   {
    "duration": 50,
    "start_time": "2021-09-19T15:35:59.933Z"
   },
   {
    "duration": 723,
    "start_time": "2021-09-19T15:36:48.114Z"
   },
   {
    "duration": 83,
    "start_time": "2021-09-19T15:36:48.840Z"
   },
   {
    "duration": 34,
    "start_time": "2021-09-19T15:36:48.926Z"
   },
   {
    "duration": 18,
    "start_time": "2021-09-19T15:36:48.963Z"
   },
   {
    "duration": 7,
    "start_time": "2021-09-19T15:36:48.984Z"
   },
   {
    "duration": 8,
    "start_time": "2021-09-19T15:36:48.993Z"
   },
   {
    "duration": 24,
    "start_time": "2021-09-19T15:36:49.003Z"
   },
   {
    "duration": 33,
    "start_time": "2021-09-19T15:36:49.031Z"
   },
   {
    "duration": 12,
    "start_time": "2021-09-19T15:36:49.067Z"
   },
   {
    "duration": 22,
    "start_time": "2021-09-19T15:36:49.085Z"
   },
   {
    "duration": 15,
    "start_time": "2021-09-19T15:36:49.111Z"
   },
   {
    "duration": 11,
    "start_time": "2021-09-19T15:36:49.160Z"
   },
   {
    "duration": 12,
    "start_time": "2021-09-19T15:36:49.175Z"
   },
   {
    "duration": 22,
    "start_time": "2021-09-19T15:36:49.190Z"
   },
   {
    "duration": 114,
    "start_time": "2021-09-19T15:36:49.215Z"
   },
   {
    "duration": 57,
    "start_time": "2021-09-19T15:36:49.332Z"
   },
   {
    "duration": 1221,
    "start_time": "2021-09-19T15:36:49.392Z"
   },
   {
    "duration": 385,
    "start_time": "2021-09-19T15:36:50.232Z"
   },
   {
    "duration": 102,
    "start_time": "2021-09-19T15:39:24.118Z"
   },
   {
    "duration": 14,
    "start_time": "2021-09-19T15:39:36.279Z"
   },
   {
    "duration": 14,
    "start_time": "2021-09-19T15:40:06.418Z"
   },
   {
    "duration": 18,
    "start_time": "2021-09-19T15:40:18.701Z"
   },
   {
    "duration": 3,
    "start_time": "2021-09-19T15:55:27.333Z"
   },
   {
    "duration": 84,
    "start_time": "2021-09-19T15:55:28.193Z"
   },
   {
    "duration": 14,
    "start_time": "2021-09-19T15:55:35.946Z"
   },
   {
    "duration": 324,
    "start_time": "2021-09-19T15:55:48.062Z"
   },
   {
    "duration": 42,
    "start_time": "2021-09-19T15:57:51.024Z"
   },
   {
    "duration": 302,
    "start_time": "2021-09-19T15:58:33.623Z"
   },
   {
    "duration": 298,
    "start_time": "2021-09-19T17:16:40.136Z"
   },
   {
    "duration": 9,
    "start_time": "2021-09-19T17:16:59.326Z"
   },
   {
    "duration": 39,
    "start_time": "2021-09-19T17:17:10.609Z"
   },
   {
    "duration": 14,
    "start_time": "2021-09-19T17:17:40.875Z"
   },
   {
    "duration": 16,
    "start_time": "2021-09-19T17:18:02.583Z"
   },
   {
    "duration": 15,
    "start_time": "2021-09-19T17:18:51.795Z"
   },
   {
    "duration": 283,
    "start_time": "2021-09-21T09:17:50.636Z"
   },
   {
    "duration": 231,
    "start_time": "2021-09-21T09:18:16.199Z"
   },
   {
    "duration": 597,
    "start_time": "2021-09-21T09:18:26.914Z"
   },
   {
    "duration": 63,
    "start_time": "2021-09-21T09:18:29.005Z"
   },
   {
    "duration": 21,
    "start_time": "2021-09-21T09:18:59.826Z"
   },
   {
    "duration": 22,
    "start_time": "2021-09-21T09:19:05.099Z"
   },
   {
    "duration": 21,
    "start_time": "2021-09-21T09:19:31.010Z"
   },
   {
    "duration": 257,
    "start_time": "2021-09-21T09:20:48.006Z"
   },
   {
    "duration": 231,
    "start_time": "2021-09-21T09:21:08.962Z"
   },
   {
    "duration": 22,
    "start_time": "2021-09-21T09:22:31.580Z"
   },
   {
    "duration": 22,
    "start_time": "2021-09-21T09:23:04.303Z"
   },
   {
    "duration": 7,
    "start_time": "2021-09-21T09:45:24.422Z"
   },
   {
    "duration": 5,
    "start_time": "2021-09-21T09:45:31.342Z"
   },
   {
    "duration": 6,
    "start_time": "2021-09-21T09:45:34.428Z"
   },
   {
    "duration": 5,
    "start_time": "2021-09-21T09:45:45.705Z"
   },
   {
    "duration": 5,
    "start_time": "2021-09-21T09:45:49.834Z"
   },
   {
    "duration": 7,
    "start_time": "2021-09-21T09:45:53.324Z"
   },
   {
    "duration": 17,
    "start_time": "2021-09-21T09:46:03.844Z"
   },
   {
    "duration": 6,
    "start_time": "2021-09-21T09:46:08.159Z"
   },
   {
    "duration": 8,
    "start_time": "2021-09-21T09:46:10.627Z"
   },
   {
    "duration": 10,
    "start_time": "2021-09-21T09:50:48.065Z"
   },
   {
    "duration": 10,
    "start_time": "2021-09-21T09:51:04.994Z"
   },
   {
    "duration": 8,
    "start_time": "2021-09-21T09:51:36.996Z"
   },
   {
    "duration": 8,
    "start_time": "2021-09-21T09:51:50.222Z"
   },
   {
    "duration": 7,
    "start_time": "2021-09-21T09:51:57.764Z"
   },
   {
    "duration": 8,
    "start_time": "2021-09-21T09:52:22.461Z"
   },
   {
    "duration": 8,
    "start_time": "2021-09-21T09:52:49.241Z"
   },
   {
    "duration": 7,
    "start_time": "2021-09-21T09:53:07.224Z"
   },
   {
    "duration": 7,
    "start_time": "2021-09-21T09:54:07.935Z"
   },
   {
    "duration": 11,
    "start_time": "2021-09-21T09:56:52.842Z"
   },
   {
    "duration": 22,
    "start_time": "2021-09-21T09:56:59.365Z"
   },
   {
    "duration": 35,
    "start_time": "2021-09-21T09:58:51.959Z"
   },
   {
    "duration": 7,
    "start_time": "2021-09-21T09:58:54.200Z"
   },
   {
    "duration": 3,
    "start_time": "2021-09-21T10:07:19.554Z"
   },
   {
    "duration": 4,
    "start_time": "2021-09-21T10:14:38.723Z"
   },
   {
    "duration": 4,
    "start_time": "2021-09-21T10:14:50.504Z"
   },
   {
    "duration": 82,
    "start_time": "2021-09-21T12:26:05.405Z"
   },
   {
    "duration": 75,
    "start_time": "2021-09-21T12:26:46.612Z"
   },
   {
    "duration": 5,
    "start_time": "2021-09-21T12:27:01.429Z"
   },
   {
    "duration": 24,
    "start_time": "2021-09-21T12:28:38.338Z"
   },
   {
    "duration": 4,
    "start_time": "2021-09-21T12:28:39.765Z"
   },
   {
    "duration": 6,
    "start_time": "2021-09-21T12:30:12.975Z"
   },
   {
    "duration": 5,
    "start_time": "2021-09-21T12:30:32.707Z"
   },
   {
    "duration": 5,
    "start_time": "2021-09-21T12:30:38.094Z"
   },
   {
    "duration": 6,
    "start_time": "2021-09-21T12:32:31.575Z"
   },
   {
    "duration": 6,
    "start_time": "2021-09-21T12:32:44.838Z"
   },
   {
    "duration": 7,
    "start_time": "2021-09-21T12:32:55.570Z"
   },
   {
    "duration": 4,
    "start_time": "2021-09-21T12:37:25.411Z"
   },
   {
    "duration": 4,
    "start_time": "2021-09-21T12:37:30.918Z"
   },
   {
    "duration": 8,
    "start_time": "2021-09-21T12:37:35.248Z"
   },
   {
    "duration": 4,
    "start_time": "2021-09-21T12:37:39.467Z"
   },
   {
    "duration": 4,
    "start_time": "2021-09-21T12:37:51.539Z"
   },
   {
    "duration": 37,
    "start_time": "2021-09-21T12:43:23.401Z"
   },
   {
    "duration": 26,
    "start_time": "2021-09-21T12:43:31.279Z"
   },
   {
    "duration": 4,
    "start_time": "2021-09-21T12:43:32.328Z"
   },
   {
    "duration": 5,
    "start_time": "2021-09-21T12:43:38.851Z"
   },
   {
    "duration": 5,
    "start_time": "2021-09-21T12:43:49.460Z"
   },
   {
    "duration": 4,
    "start_time": "2021-09-21T12:43:55.074Z"
   },
   {
    "duration": 4,
    "start_time": "2021-09-21T12:43:59.630Z"
   },
   {
    "duration": 9,
    "start_time": "2021-09-21T12:45:12.734Z"
   },
   {
    "duration": 8,
    "start_time": "2021-09-21T12:45:25.018Z"
   },
   {
    "duration": 25,
    "start_time": "2021-09-21T12:47:34.869Z"
   },
   {
    "duration": 32,
    "start_time": "2021-09-21T12:48:27.933Z"
   },
   {
    "duration": 28,
    "start_time": "2021-09-21T12:48:42.248Z"
   },
   {
    "duration": 29,
    "start_time": "2021-09-21T12:48:56.322Z"
   },
   {
    "duration": 16,
    "start_time": "2021-09-21T12:49:09.582Z"
   },
   {
    "duration": 22,
    "start_time": "2021-09-21T12:49:28.538Z"
   },
   {
    "duration": 16,
    "start_time": "2021-09-21T12:49:48.654Z"
   },
   {
    "duration": 12,
    "start_time": "2021-09-21T12:49:58.700Z"
   },
   {
    "duration": 24,
    "start_time": "2021-09-21T12:51:10.262Z"
   },
   {
    "duration": 727,
    "start_time": "2021-09-22T15:24:28.392Z"
   },
   {
    "duration": 60,
    "start_time": "2021-09-22T15:24:32.964Z"
   },
   {
    "duration": 25,
    "start_time": "2021-09-22T15:27:26.527Z"
   },
   {
    "duration": 8,
    "start_time": "2021-09-22T15:27:32.154Z"
   },
   {
    "duration": 480,
    "start_time": "2021-09-22T15:31:57.641Z"
   },
   {
    "duration": 6,
    "start_time": "2021-09-22T15:32:33.387Z"
   },
   {
    "duration": 694,
    "start_time": "2021-09-22T15:37:40.024Z"
   },
   {
    "duration": 885,
    "start_time": "2021-09-22T15:37:49.098Z"
   },
   {
    "duration": 627,
    "start_time": "2021-09-22T15:38:29.644Z"
   },
   {
    "duration": 766,
    "start_time": "2021-09-22T15:43:36.602Z"
   },
   {
    "duration": 252,
    "start_time": "2021-09-22T15:44:38.975Z"
   },
   {
    "duration": 6,
    "start_time": "2021-09-22T15:51:37.280Z"
   },
   {
    "duration": 217,
    "start_time": "2021-09-22T15:52:51.953Z"
   },
   {
    "duration": 4,
    "start_time": "2021-09-22T15:59:23.700Z"
   },
   {
    "duration": 4,
    "start_time": "2021-09-22T15:59:33.083Z"
   },
   {
    "duration": 227,
    "start_time": "2021-09-22T16:09:46.101Z"
   },
   {
    "duration": 5,
    "start_time": "2021-09-22T16:12:25.553Z"
   },
   {
    "duration": 21,
    "start_time": "2021-09-22T16:12:36.004Z"
   },
   {
    "duration": 10,
    "start_time": "2021-09-22T16:12:46.511Z"
   },
   {
    "duration": 20,
    "start_time": "2021-09-22T16:15:28.680Z"
   },
   {
    "duration": 213,
    "start_time": "2021-09-22T16:15:57.832Z"
   },
   {
    "duration": 35,
    "start_time": "2021-09-22T16:17:34.190Z"
   },
   {
    "duration": 12,
    "start_time": "2021-09-22T16:18:10.267Z"
   },
   {
    "duration": 239,
    "start_time": "2021-09-22T16:18:19.964Z"
   },
   {
    "duration": 20,
    "start_time": "2021-09-22T16:20:58.452Z"
   },
   {
    "duration": 23,
    "start_time": "2021-09-22T16:20:58.474Z"
   },
   {
    "duration": 230,
    "start_time": "2021-09-22T16:23:57.499Z"
   },
   {
    "duration": 19,
    "start_time": "2021-09-22T16:24:18.471Z"
   },
   {
    "duration": 225,
    "start_time": "2021-09-22T16:24:22.849Z"
   },
   {
    "duration": 9,
    "start_time": "2021-09-22T16:24:36.696Z"
   },
   {
    "duration": 247,
    "start_time": "2021-09-22T16:24:48.465Z"
   },
   {
    "duration": 24,
    "start_time": "2021-09-22T16:25:04.092Z"
   },
   {
    "duration": 11,
    "start_time": "2021-09-22T16:25:47.540Z"
   },
   {
    "duration": 8,
    "start_time": "2021-09-22T16:26:08.837Z"
   },
   {
    "duration": 8,
    "start_time": "2021-09-22T16:26:16.049Z"
   },
   {
    "duration": 22,
    "start_time": "2021-09-22T16:26:24.663Z"
   },
   {
    "duration": 4,
    "start_time": "2021-09-22T16:29:20.279Z"
   },
   {
    "duration": 22,
    "start_time": "2021-09-22T16:29:25.039Z"
   },
   {
    "duration": 3,
    "start_time": "2021-09-22T16:30:25.337Z"
   },
   {
    "duration": 22,
    "start_time": "2021-09-22T16:30:28.533Z"
   },
   {
    "duration": 8,
    "start_time": "2021-09-22T16:31:53.855Z"
   },
   {
    "duration": 8,
    "start_time": "2021-09-22T16:32:08.940Z"
   },
   {
    "duration": 8,
    "start_time": "2021-09-22T16:32:13.564Z"
   },
   {
    "duration": 7,
    "start_time": "2021-09-22T16:33:08.600Z"
   },
   {
    "duration": 3,
    "start_time": "2021-09-22T16:33:33.766Z"
   },
   {
    "duration": 9,
    "start_time": "2021-09-22T16:33:39.714Z"
   },
   {
    "duration": 229,
    "start_time": "2021-09-22T16:33:53.329Z"
   },
   {
    "duration": 6,
    "start_time": "2021-09-22T16:36:51.387Z"
   },
   {
    "duration": 16,
    "start_time": "2021-09-22T16:36:51.395Z"
   },
   {
    "duration": 242,
    "start_time": "2021-09-22T16:37:19.926Z"
   },
   {
    "duration": 181,
    "start_time": "2021-09-22T16:39:15.880Z"
   },
   {
    "duration": 24,
    "start_time": "2021-09-22T16:40:49.111Z"
   },
   {
    "duration": 7,
    "start_time": "2021-09-22T16:41:18.137Z"
   },
   {
    "duration": 6,
    "start_time": "2021-09-22T16:41:43.796Z"
   },
   {
    "duration": 6,
    "start_time": "2021-09-22T16:41:52.368Z"
   },
   {
    "duration": 7,
    "start_time": "2021-09-22T16:42:23.780Z"
   },
   {
    "duration": 7,
    "start_time": "2021-09-22T16:42:34.288Z"
   },
   {
    "duration": 8,
    "start_time": "2021-09-22T16:43:03.839Z"
   },
   {
    "duration": 8,
    "start_time": "2021-09-22T16:43:13.314Z"
   },
   {
    "duration": 90,
    "start_time": "2021-09-22T16:43:18.196Z"
   },
   {
    "duration": 24,
    "start_time": "2021-09-22T16:43:30.865Z"
   },
   {
    "duration": 5,
    "start_time": "2021-09-22T16:53:08.031Z"
   },
   {
    "duration": 7,
    "start_time": "2021-09-22T16:53:39.100Z"
   },
   {
    "duration": 10,
    "start_time": "2021-09-22T16:55:57.435Z"
   },
   {
    "duration": 22,
    "start_time": "2021-09-22T16:56:07.878Z"
   },
   {
    "duration": 9,
    "start_time": "2021-09-22T16:56:38.663Z"
   },
   {
    "duration": 10,
    "start_time": "2021-09-22T16:56:59.482Z"
   },
   {
    "duration": 10,
    "start_time": "2021-09-22T16:57:38.353Z"
   },
   {
    "duration": 10,
    "start_time": "2021-09-22T16:57:38.950Z"
   },
   {
    "duration": 24,
    "start_time": "2021-09-22T16:57:43.756Z"
   },
   {
    "duration": 25,
    "start_time": "2021-09-22T16:57:52.271Z"
   },
   {
    "duration": 11,
    "start_time": "2021-09-22T16:58:35.054Z"
   },
   {
    "duration": 20,
    "start_time": "2021-09-22T16:58:47.677Z"
   },
   {
    "duration": 10,
    "start_time": "2021-09-22T16:59:38.307Z"
   },
   {
    "duration": 10,
    "start_time": "2021-09-22T16:59:52.534Z"
   },
   {
    "duration": 24,
    "start_time": "2021-09-22T17:00:05.173Z"
   },
   {
    "duration": 10,
    "start_time": "2021-09-22T17:00:43.306Z"
   },
   {
    "duration": 21,
    "start_time": "2021-09-22T17:00:48.572Z"
   },
   {
    "duration": 15,
    "start_time": "2021-09-22T17:03:54.153Z"
   },
   {
    "duration": 7,
    "start_time": "2021-09-22T17:04:24.326Z"
   },
   {
    "duration": 11,
    "start_time": "2021-09-22T17:04:35.484Z"
   },
   {
    "duration": 11,
    "start_time": "2021-09-22T17:04:43.427Z"
   },
   {
    "duration": 10,
    "start_time": "2021-09-22T17:05:09.819Z"
   },
   {
    "duration": 10,
    "start_time": "2021-09-22T17:05:10.404Z"
   },
   {
    "duration": 169,
    "start_time": "2021-09-22T17:05:25.974Z"
   },
   {
    "duration": 16,
    "start_time": "2021-09-22T17:05:34.333Z"
   },
   {
    "duration": 16,
    "start_time": "2021-09-22T17:06:54.680Z"
   },
   {
    "duration": 17,
    "start_time": "2021-09-22T17:08:44.458Z"
   },
   {
    "duration": 7,
    "start_time": "2021-09-22T17:13:42.194Z"
   },
   {
    "duration": 172,
    "start_time": "2021-09-22T17:14:47.050Z"
   },
   {
    "duration": 6,
    "start_time": "2021-09-22T17:41:42.805Z"
   },
   {
    "duration": 7502,
    "start_time": "2021-09-22T17:54:49.185Z"
   },
   {
    "duration": 204,
    "start_time": "2021-09-22T17:56:06.503Z"
   },
   {
    "duration": 22,
    "start_time": "2021-09-22T17:56:19.531Z"
   },
   {
    "duration": 4,
    "start_time": "2021-09-22T17:57:35.886Z"
   },
   {
    "duration": 212,
    "start_time": "2021-09-22T17:58:25.485Z"
   },
   {
    "duration": 5,
    "start_time": "2021-09-22T17:58:28.693Z"
   },
   {
    "duration": 18177,
    "start_time": "2021-09-22T18:07:52.597Z"
   },
   {
    "duration": 392,
    "start_time": "2021-09-22T18:08:36.522Z"
   },
   {
    "duration": 6,
    "start_time": "2021-09-22T18:09:48.986Z"
   },
   {
    "duration": 8,
    "start_time": "2021-09-22T18:10:37.473Z"
   },
   {
    "duration": 9,
    "start_time": "2021-09-22T18:11:02.007Z"
   },
   {
    "duration": 464,
    "start_time": "2021-09-22T18:12:06.214Z"
   },
   {
    "duration": 12,
    "start_time": "2021-09-22T18:12:51.620Z"
   },
   {
    "duration": 15,
    "start_time": "2021-09-22T18:12:59.280Z"
   },
   {
    "duration": 427,
    "start_time": "2021-09-22T18:14:17.142Z"
   },
   {
    "duration": 421,
    "start_time": "2021-09-22T18:14:56.305Z"
   },
   {
    "duration": 442,
    "start_time": "2021-09-22T18:15:22.052Z"
   },
   {
    "duration": 97,
    "start_time": "2021-09-22T18:17:09.923Z"
   },
   {
    "duration": -670,
    "start_time": "2021-09-22T18:19:00.418Z"
   },
   {
    "duration": -631,
    "start_time": "2021-09-22T18:21:16.488Z"
   },
   {
    "duration": 372,
    "start_time": "2021-09-22T18:22:21.412Z"
   },
   {
    "duration": 349,
    "start_time": "2021-09-22T18:22:54.557Z"
   },
   {
    "duration": 396,
    "start_time": "2021-09-22T18:23:27.632Z"
   },
   {
    "duration": 398,
    "start_time": "2021-09-22T18:23:55.353Z"
   },
   {
    "duration": 399,
    "start_time": "2021-09-22T18:24:56.688Z"
   },
   {
    "duration": 433,
    "start_time": "2021-09-22T18:26:19.095Z"
   },
   {
    "duration": 434,
    "start_time": "2021-09-22T18:26:48.015Z"
   },
   {
    "duration": 426,
    "start_time": "2021-09-22T18:27:17.235Z"
   },
   {
    "duration": 439,
    "start_time": "2021-09-22T18:27:41.792Z"
   },
   {
    "duration": 408,
    "start_time": "2021-09-22T18:27:56.058Z"
   },
   {
    "duration": 160,
    "start_time": "2021-09-22T18:30:44.922Z"
   },
   {
    "duration": 143,
    "start_time": "2021-09-22T18:31:25.985Z"
   },
   {
    "duration": 157,
    "start_time": "2021-09-22T18:31:49.002Z"
   },
   {
    "duration": 14,
    "start_time": "2021-09-22T18:33:30.442Z"
   },
   {
    "duration": 6,
    "start_time": "2021-09-22T18:33:47.433Z"
   },
   {
    "duration": 13,
    "start_time": "2021-09-22T18:34:00.167Z"
   },
   {
    "duration": 159,
    "start_time": "2021-09-22T18:36:16.270Z"
   },
   {
    "duration": 6,
    "start_time": "2021-09-22T18:37:42.908Z"
   },
   {
    "duration": 14,
    "start_time": "2021-09-22T18:42:22.466Z"
   },
   {
    "duration": 4,
    "start_time": "2021-09-22T18:46:10.426Z"
   },
   {
    "duration": 7,
    "start_time": "2021-09-22T18:47:04.272Z"
   },
   {
    "duration": 163,
    "start_time": "2021-09-22T18:47:12.724Z"
   },
   {
    "duration": 164,
    "start_time": "2021-09-22T18:47:26.281Z"
   },
   {
    "duration": 7,
    "start_time": "2021-09-22T18:58:28.028Z"
   },
   {
    "duration": 160,
    "start_time": "2021-09-22T18:58:41.083Z"
   },
   {
    "duration": 139,
    "start_time": "2021-09-22T19:07:50.142Z"
   },
   {
    "duration": 100,
    "start_time": "2021-09-22T19:11:46.821Z"
   },
   {
    "duration": 37,
    "start_time": "2021-09-22T19:12:08.056Z"
   },
   {
    "duration": 20,
    "start_time": "2021-09-22T19:12:25.209Z"
   },
   {
    "duration": 4,
    "start_time": "2021-09-22T19:12:51.041Z"
   },
   {
    "duration": 4,
    "start_time": "2021-09-22T19:12:56.629Z"
   },
   {
    "duration": 198,
    "start_time": "2021-09-22T19:13:41.891Z"
   },
   {
    "duration": 44,
    "start_time": "2021-09-22T19:22:25.488Z"
   },
   {
    "duration": 44,
    "start_time": "2021-09-22T19:22:46.413Z"
   },
   {
    "duration": 147,
    "start_time": "2021-09-22T19:22:55.654Z"
   },
   {
    "duration": 627,
    "start_time": "2021-09-22T19:23:56.786Z"
   },
   {
    "duration": 60,
    "start_time": "2021-09-22T19:23:58.149Z"
   },
   {
    "duration": 25,
    "start_time": "2021-09-22T19:24:03.221Z"
   },
   {
    "duration": 6,
    "start_time": "2021-09-22T19:24:05.550Z"
   },
   {
    "duration": 208,
    "start_time": "2021-09-22T19:24:08.411Z"
   },
   {
    "duration": 6,
    "start_time": "2021-09-22T19:24:13.099Z"
   },
   {
    "duration": 5,
    "start_time": "2021-09-22T19:24:15.967Z"
   },
   {
    "duration": 5,
    "start_time": "2021-09-22T19:24:20.209Z"
   },
   {
    "duration": 6,
    "start_time": "2021-09-22T19:24:21.323Z"
   },
   {
    "duration": 5,
    "start_time": "2021-09-22T19:24:22.358Z"
   },
   {
    "duration": 6,
    "start_time": "2021-09-22T19:24:24.911Z"
   },
   {
    "duration": 5,
    "start_time": "2021-09-22T19:24:26.384Z"
   },
   {
    "duration": 12,
    "start_time": "2021-09-22T19:24:28.007Z"
   },
   {
    "duration": 5,
    "start_time": "2021-09-22T19:24:30.501Z"
   },
   {
    "duration": 6,
    "start_time": "2021-09-22T19:24:33.923Z"
   },
   {
    "duration": 5,
    "start_time": "2021-09-22T19:24:42.832Z"
   },
   {
    "duration": 4,
    "start_time": "2021-09-22T19:24:47.693Z"
   },
   {
    "duration": 4,
    "start_time": "2021-09-22T19:24:49.211Z"
   },
   {
    "duration": 12,
    "start_time": "2021-09-22T19:24:50.370Z"
   },
   {
    "duration": 223,
    "start_time": "2021-09-22T19:25:00.684Z"
   },
   {
    "duration": 11,
    "start_time": "2021-09-22T19:25:07.066Z"
   },
   {
    "duration": 9,
    "start_time": "2021-09-22T19:25:08.135Z"
   },
   {
    "duration": 167,
    "start_time": "2021-09-22T19:25:13.938Z"
   },
   {
    "duration": 206,
    "start_time": "2021-09-22T19:25:16.909Z"
   },
   {
    "duration": 11,
    "start_time": "2021-09-22T19:25:18.046Z"
   },
   {
    "duration": 145,
    "start_time": "2021-09-22T19:25:25.922Z"
   },
   {
    "duration": 146,
    "start_time": "2021-09-22T19:25:32.312Z"
   },
   {
    "duration": 5,
    "start_time": "2021-09-22T19:25:35.877Z"
   },
   {
    "duration": 13,
    "start_time": "2021-09-22T19:25:36.991Z"
   },
   {
    "duration": 7,
    "start_time": "2021-09-22T19:25:42.928Z"
   },
   {
    "duration": 170,
    "start_time": "2021-09-22T19:25:44.010Z"
   },
   {
    "duration": 34,
    "start_time": "2021-09-22T19:25:48.263Z"
   },
   {
    "duration": 5,
    "start_time": "2021-09-22T19:25:50.616Z"
   },
   {
    "duration": 370,
    "start_time": "2021-09-22T19:25:52.686Z"
   },
   {
    "duration": 43,
    "start_time": "2021-09-22T19:25:56.454Z"
   },
   {
    "duration": 179,
    "start_time": "2021-09-22T19:26:09.756Z"
   },
   {
    "duration": 40,
    "start_time": "2021-09-22T19:27:41.912Z"
   },
   {
    "duration": 177,
    "start_time": "2021-09-22T19:27:43.555Z"
   },
   {
    "duration": 52,
    "start_time": "2021-09-22T19:29:42.861Z"
   },
   {
    "duration": 176,
    "start_time": "2021-09-22T19:29:44.786Z"
   },
   {
    "duration": 56,
    "start_time": "2021-09-22T19:36:59.107Z"
   },
   {
    "duration": 75,
    "start_time": "2021-09-22T19:37:19.706Z"
   },
   {
    "duration": 13,
    "start_time": "2021-09-22T19:41:04.742Z"
   },
   {
    "duration": 24,
    "start_time": "2021-09-22T19:42:21.806Z"
   },
   {
    "duration": 16,
    "start_time": "2021-09-22T19:42:34.609Z"
   },
   {
    "duration": 15,
    "start_time": "2021-09-22T19:44:06.152Z"
   },
   {
    "duration": 20,
    "start_time": "2021-09-22T19:46:40.418Z"
   },
   {
    "duration": 70,
    "start_time": "2021-09-22T19:48:16.506Z"
   },
   {
    "duration": 185,
    "start_time": "2021-09-22T19:48:25.373Z"
   },
   {
    "duration": 6,
    "start_time": "2021-09-22T19:49:39.827Z"
   },
   {
    "duration": 11,
    "start_time": "2021-09-22T19:49:58.478Z"
   },
   {
    "duration": 9,
    "start_time": "2021-09-22T19:50:12.083Z"
   },
   {
    "duration": 10,
    "start_time": "2021-09-22T19:50:18.662Z"
   },
   {
    "duration": 10,
    "start_time": "2021-09-22T19:50:24.388Z"
   },
   {
    "duration": 14,
    "start_time": "2021-09-22T19:50:51.018Z"
   },
   {
    "duration": 89,
    "start_time": "2021-09-22T19:51:15.351Z"
   },
   {
    "duration": 159,
    "start_time": "2021-09-22T19:51:18.592Z"
   },
   {
    "duration": 5,
    "start_time": "2021-09-22T19:51:50.160Z"
   },
   {
    "duration": 9,
    "start_time": "2021-09-22T19:52:39.590Z"
   },
   {
    "duration": 9,
    "start_time": "2021-09-22T19:53:04.466Z"
   },
   {
    "duration": 649,
    "start_time": "2021-09-28T08:53:44.167Z"
   },
   {
    "duration": 2,
    "start_time": "2021-09-28T08:53:44.818Z"
   },
   {
    "duration": 82,
    "start_time": "2021-09-28T08:53:44.822Z"
   },
   {
    "duration": 8,
    "start_time": "2021-09-28T08:53:44.906Z"
   },
   {
    "duration": 19,
    "start_time": "2021-09-28T08:53:44.915Z"
   },
   {
    "duration": 218,
    "start_time": "2021-09-28T08:53:44.935Z"
   },
   {
    "duration": 6,
    "start_time": "2021-09-28T08:53:45.154Z"
   },
   {
    "duration": 11,
    "start_time": "2021-09-28T08:53:45.163Z"
   },
   {
    "duration": 12,
    "start_time": "2021-09-28T08:53:45.177Z"
   },
   {
    "duration": 11,
    "start_time": "2021-09-28T08:53:45.191Z"
   },
   {
    "duration": 16,
    "start_time": "2021-09-28T08:53:45.204Z"
   },
   {
    "duration": 18,
    "start_time": "2021-09-28T08:53:45.222Z"
   },
   {
    "duration": 17,
    "start_time": "2021-09-28T08:53:45.241Z"
   },
   {
    "duration": 19,
    "start_time": "2021-09-28T08:53:45.260Z"
   },
   {
    "duration": 18,
    "start_time": "2021-09-28T08:53:45.281Z"
   },
   {
    "duration": 21,
    "start_time": "2021-09-28T08:53:45.301Z"
   },
   {
    "duration": 13,
    "start_time": "2021-09-28T08:53:45.324Z"
   },
   {
    "duration": 6,
    "start_time": "2021-09-28T08:53:45.338Z"
   },
   {
    "duration": 13,
    "start_time": "2021-09-28T08:53:45.346Z"
   },
   {
    "duration": 227,
    "start_time": "2021-09-28T08:53:45.360Z"
   },
   {
    "duration": 14,
    "start_time": "2021-09-28T08:53:45.589Z"
   },
   {
    "duration": 23,
    "start_time": "2021-09-28T08:53:45.605Z"
   },
   {
    "duration": 178,
    "start_time": "2021-09-28T08:53:45.632Z"
   },
   {
    "duration": 205,
    "start_time": "2021-09-28T08:53:45.812Z"
   },
   {
    "duration": 157,
    "start_time": "2021-09-28T08:53:46.018Z"
   },
   {
    "duration": 5,
    "start_time": "2021-09-28T08:53:46.177Z"
   },
   {
    "duration": 28,
    "start_time": "2021-09-28T08:53:46.184Z"
   },
   {
    "duration": 24,
    "start_time": "2021-09-28T08:53:46.213Z"
   },
   {
    "duration": 179,
    "start_time": "2021-09-28T08:53:46.238Z"
   },
   {
    "duration": 41,
    "start_time": "2021-09-28T08:53:46.418Z"
   },
   {
    "duration": 4,
    "start_time": "2021-09-28T08:53:46.461Z"
   },
   {
    "duration": 122,
    "start_time": "2021-09-28T08:53:46.467Z"
   },
   {
    "duration": 187,
    "start_time": "2021-09-28T08:53:46.591Z"
   },
   {
    "duration": 410,
    "start_time": "2021-09-28T08:53:46.781Z"
   },
   {
    "duration": 16,
    "start_time": "2021-09-28T08:53:47.193Z"
   },
   {
    "duration": 26,
    "start_time": "2021-09-28T08:53:47.211Z"
   },
   {
    "duration": 22,
    "start_time": "2021-09-28T08:53:47.248Z"
   },
   {
    "duration": 53,
    "start_time": "2021-09-28T08:53:47.272Z"
   },
   {
    "duration": 41,
    "start_time": "2021-09-28T08:53:47.327Z"
   },
   {
    "duration": 700,
    "start_time": "2021-09-28T08:53:47.370Z"
   },
   {
    "duration": 3,
    "start_time": "2021-09-28T08:53:48.073Z"
   },
   {
    "duration": 16,
    "start_time": "2021-09-28T08:53:48.078Z"
   },
   {
    "duration": 8123,
    "start_time": "2021-09-28T08:53:48.096Z"
   },
   {
    "duration": 186,
    "start_time": "2021-09-28T08:53:56.221Z"
   },
   {
    "duration": 2479,
    "start_time": "2021-09-28T08:53:56.409Z"
   },
   {
    "duration": 8,
    "start_time": "2021-09-28T08:53:58.890Z"
   },
   {
    "duration": 26,
    "start_time": "2021-09-28T08:53:58.899Z"
   },
   {
    "duration": 28,
    "start_time": "2021-09-28T08:53:58.926Z"
   },
   {
    "duration": 41,
    "start_time": "2021-09-28T08:53:58.956Z"
   },
   {
    "duration": 28,
    "start_time": "2021-09-28T08:53:58.999Z"
   },
   {
    "duration": 64,
    "start_time": "2021-09-28T08:53:59.029Z"
   },
   {
    "duration": 32,
    "start_time": "2021-09-28T08:53:59.095Z"
   },
   {
    "duration": 36,
    "start_time": "2021-09-28T08:53:59.129Z"
   },
   {
    "duration": 42,
    "start_time": "2021-09-28T08:53:59.167Z"
   },
   {
    "duration": 2,
    "start_time": "2021-09-28T08:53:59.211Z"
   },
   {
    "duration": 78,
    "start_time": "2021-09-28T09:25:56.270Z"
   },
   {
    "duration": 78,
    "start_time": "2021-09-28T09:40:16.535Z"
   },
   {
    "duration": 132,
    "start_time": "2021-09-28T09:44:15.548Z"
   },
   {
    "duration": 89,
    "start_time": "2021-09-28T09:50:53.414Z"
   },
   {
    "duration": 1405,
    "start_time": "2021-09-28T09:51:14.827Z"
   },
   {
    "duration": 8,
    "start_time": "2021-09-28T09:54:53.199Z"
   },
   {
    "duration": 6,
    "start_time": "2021-09-28T09:55:06.480Z"
   },
   {
    "duration": 118,
    "start_time": "2021-09-28T09:55:39.176Z"
   },
   {
    "duration": 6,
    "start_time": "2021-09-28T09:57:48.176Z"
   },
   {
    "duration": 727,
    "start_time": "2021-09-28T10:03:17.736Z"
   },
   {
    "duration": 4,
    "start_time": "2021-09-28T10:03:18.466Z"
   },
   {
    "duration": 74,
    "start_time": "2021-09-28T10:03:18.472Z"
   },
   {
    "duration": 11,
    "start_time": "2021-09-28T10:03:18.548Z"
   },
   {
    "duration": 11,
    "start_time": "2021-09-28T10:03:18.561Z"
   },
   {
    "duration": 232,
    "start_time": "2021-09-28T10:03:18.574Z"
   },
   {
    "duration": 5,
    "start_time": "2021-09-28T10:03:18.808Z"
   },
   {
    "duration": 10,
    "start_time": "2021-09-28T10:03:18.815Z"
   },
   {
    "duration": 6,
    "start_time": "2021-09-28T10:03:18.827Z"
   },
   {
    "duration": 21,
    "start_time": "2021-09-28T10:03:18.835Z"
   },
   {
    "duration": 6,
    "start_time": "2021-09-28T10:03:18.858Z"
   },
   {
    "duration": 10,
    "start_time": "2021-09-28T10:03:18.866Z"
   },
   {
    "duration": 10,
    "start_time": "2021-09-28T10:03:18.878Z"
   },
   {
    "duration": 22,
    "start_time": "2021-09-28T10:03:18.890Z"
   },
   {
    "duration": 12,
    "start_time": "2021-09-28T10:03:18.914Z"
   },
   {
    "duration": 22,
    "start_time": "2021-09-28T10:03:18.928Z"
   },
   {
    "duration": 6,
    "start_time": "2021-09-28T10:03:18.952Z"
   },
   {
    "duration": 8,
    "start_time": "2021-09-28T10:03:18.960Z"
   },
   {
    "duration": 8,
    "start_time": "2021-09-28T10:03:18.970Z"
   },
   {
    "duration": 248,
    "start_time": "2021-09-28T10:03:18.980Z"
   },
   {
    "duration": 21,
    "start_time": "2021-09-28T10:03:19.230Z"
   },
   {
    "duration": 12,
    "start_time": "2021-09-28T10:03:19.253Z"
   },
   {
    "duration": 193,
    "start_time": "2021-09-28T10:03:19.269Z"
   },
   {
    "duration": 231,
    "start_time": "2021-09-28T10:03:19.465Z"
   },
   {
    "duration": 149,
    "start_time": "2021-09-28T10:03:19.698Z"
   },
   {
    "duration": 6,
    "start_time": "2021-09-28T10:03:19.849Z"
   },
   {
    "duration": 22,
    "start_time": "2021-09-28T10:03:19.858Z"
   },
   {
    "duration": 15,
    "start_time": "2021-09-28T10:03:19.882Z"
   },
   {
    "duration": 243,
    "start_time": "2021-09-28T10:03:19.899Z"
   },
   {
    "duration": 44,
    "start_time": "2021-09-28T10:03:20.149Z"
   },
   {
    "duration": 3,
    "start_time": "2021-09-28T10:03:20.195Z"
   },
   {
    "duration": 151,
    "start_time": "2021-09-28T10:03:20.200Z"
   },
   {
    "duration": 175,
    "start_time": "2021-09-28T10:03:20.354Z"
   },
   {
    "duration": 307,
    "start_time": "2021-09-28T10:03:20.530Z"
   },
   {
    "duration": 16,
    "start_time": "2021-09-28T10:03:20.839Z"
   },
   {
    "duration": 26,
    "start_time": "2021-09-28T10:03:20.857Z"
   },
   {
    "duration": 15,
    "start_time": "2021-09-28T10:03:20.885Z"
   },
   {
    "duration": 52,
    "start_time": "2021-09-28T10:03:20.902Z"
   },
   {
    "duration": 18,
    "start_time": "2021-09-28T10:03:20.956Z"
   },
   {
    "duration": 732,
    "start_time": "2021-09-28T10:03:20.976Z"
   },
   {
    "duration": 3,
    "start_time": "2021-09-28T10:03:21.710Z"
   },
   {
    "duration": 6,
    "start_time": "2021-09-28T10:03:21.715Z"
   },
   {
    "duration": 8043,
    "start_time": "2021-09-28T10:03:21.723Z"
   },
   {
    "duration": 178,
    "start_time": "2021-09-28T10:03:29.768Z"
   },
   {
    "duration": 2526,
    "start_time": "2021-09-28T10:03:29.948Z"
   },
   {
    "duration": 9,
    "start_time": "2021-09-28T10:03:32.476Z"
   },
   {
    "duration": 8,
    "start_time": "2021-09-28T10:03:32.487Z"
   },
   {
    "duration": 7,
    "start_time": "2021-09-28T10:03:32.497Z"
   },
   {
    "duration": 4,
    "start_time": "2021-09-28T10:03:32.506Z"
   },
   {
    "duration": 10,
    "start_time": "2021-09-28T10:03:32.512Z"
   },
   {
    "duration": 64,
    "start_time": "2021-09-28T10:03:32.524Z"
   },
   {
    "duration": 28,
    "start_time": "2021-09-28T10:03:32.590Z"
   },
   {
    "duration": 58,
    "start_time": "2021-09-28T10:03:32.619Z"
   },
   {
    "duration": 42,
    "start_time": "2021-09-28T10:03:32.679Z"
   },
   {
    "duration": 3,
    "start_time": "2021-09-28T10:03:32.723Z"
   }
  ],
  "kernelspec": {
   "display_name": "Python 3",
   "language": "python",
   "name": "python3"
  },
  "language_info": {
   "codemirror_mode": {
    "name": "ipython",
    "version": 3
   },
   "file_extension": ".py",
   "mimetype": "text/x-python",
   "name": "python",
   "nbconvert_exporter": "python",
   "pygments_lexer": "ipython3",
   "version": "3.7.6"
  },
  "toc": {
   "base_numbering": 1,
   "nav_menu": {},
   "number_sections": true,
   "sideBar": true,
   "skip_h1_title": true,
   "title_cell": "Table of Contents",
   "title_sidebar": "Contents",
   "toc_cell": false,
   "toc_position": {},
   "toc_section_display": true,
   "toc_window_display": true
  }
 },
 "nbformat": 4,
 "nbformat_minor": 2
}
